{
 "cells": [
  {
   "cell_type": "code",
   "execution_count": 2,
   "metadata": {},
   "outputs": [
    {
     "name": "stdout",
     "output_type": "stream",
     "text": [
      "Collecting feedparser\n",
      "  Using cached feedparser-6.0.10-py3-none-any.whl (81 kB)\n",
      "Collecting sgmllib3k\n",
      "  Using cached sgmllib3k-1.0.0-py3-none-any.whl\n",
      "Installing collected packages: sgmllib3k, feedparser\n",
      "Successfully installed feedparser-6.0.10 sgmllib3k-1.0.0\n"
     ]
    }
   ],
   "source": [
    "! pip install feedparser\n"
   ]
  },
  {
   "cell_type": "code",
   "execution_count": 3,
   "metadata": {},
   "outputs": [],
   "source": [
    "import feedparser"
   ]
  },
  {
   "attachments": {},
   "cell_type": "markdown",
   "metadata": {},
   "source": [
    "RSS links from: https://cointelegraph.com/rss-feeds"
   ]
  },
  {
   "cell_type": "code",
   "execution_count": 12,
   "metadata": {},
   "outputs": [],
   "source": [
    "feed = feedparser.parse(\"https://cointelegraph.com/rss/tag/regulation\")"
   ]
  },
  {
   "cell_type": "code",
   "execution_count": 20,
   "metadata": {},
   "outputs": [
    {
     "name": "stdout",
     "output_type": "stream",
     "text": [
      "Entry: 1\n",
      "Time: Thu, 23 Feb 2023 10:46:49 +0000 GMT\n",
      "Title: SEC files objection to Binance US bid for Voyager assets\n",
      "Summary: The SEC has moved to bar final approval of Binance.US’ $1 billion bid for assets belonging to bankrupt crypto lending firm Voyager Digital. \n",
      "\n",
      "Entry: 2\n",
      "Time: Thu, 23 Feb 2023 07:54:14 +0000 GMT\n",
      "Title: Kim Kardashian, Floyd Mayweather file motion to dismiss crypto promotion lawsuit\n",
      "Summary: The defendants pointed out that the renewed allegations push the same theory the court had already rejected.\n",
      "\n",
      "Entry: 3\n",
      "Time: Thu, 23 Feb 2023 06:21:38 +0000 GMT\n",
      "Title: ‘It would be absurd’ for US court to rule private NFTs as securities: Lawyer\n",
      "Summary: The comments from the hosts of lawyers come as Judge Victor Marreo said that Dapper Labs’ NBA Top Shot Moments NFT might constitute a security.\n",
      "\n",
      "Entry: 4\n",
      "Time: Thu, 23 Feb 2023 05:40:46 +0000 GMT\n",
      "Title: Trade group accuses SEC of ‘stealthy’ overreach in Coinbase insider trading case\n",
      "Summary: The Chamber of Digital Commerce has accused the SEC of trying to impose securities regulations via the “back door” of an insider trading lawsuit.\n",
      "\n",
      "Entry: 5\n",
      "Time: Thu, 23 Feb 2023 03:58:11 +0000 GMT\n",
      "Title: CoinEx crypto exchange sued by New York for failing to register with state\n",
      "Summary: The New York Attorney General is looking for a court order to remove the exchange from the state and wants it to block all internet addresses originating from New York.\n",
      "\n",
      "Entry: 6\n",
      "Time: Thu, 23 Feb 2023 02:56:50 +0000 GMT\n",
      "Title: Forsage founders indicted over $340M DeFi ‘Ponzi scheme’\n",
      "Summary: According to the Department of Justice, Forsage employed smart contracts that were coded in ways consistent with a Ponzi scheme.\n",
      "\n",
      "Entry: 7\n",
      "Time: Wed, 22 Feb 2023 21:58:31 +0000 GMT\n",
      "Title: Gary Gensler’s SEC is playing a game, but not the one you think\n",
      "Summary: Gensler has made a show of cracking down on crypto companies that haven’t engaged in actual misconduct. When real fraud is taking place, he’s nowhere to be seen.\n",
      "\n",
      "Entry: 8\n",
      "Time: Wed, 22 Feb 2023 21:30:00 +0000 GMT\n",
      "Title: Rep. Maxine Waters says all US regulators ‘better get together on crypto’\n",
      "Summary: Representative Maxine Waters says the crypto market crash and bankruptcies gave U.S. lawmakers an opportunity of “getting accountability” in the space through legislation.\n",
      "\n",
      "Entry: 9\n",
      "Time: Wed, 22 Feb 2023 20:30:00 +0000 GMT\n",
      "Title: New Canadian rules for crypto trading platforms leave little room for stablecoins\n",
      "Summary: The Canadian Securities Administrators has tightened registration requirements for crypto exchanges for the second time, after the disorder seen in 2022.\n",
      "\n",
      "Entry: 10\n",
      "Time: Wed, 22 Feb 2023 20:04:14 +0000 GMT\n",
      "Title: Dapper Lab’s NBA Top Shot Moments may qualify as a security, says US judge\n",
      "Summary: Federal judge Victor Marreo has ruled that under the Howey test, the NFTs offered by Dapper Labs constituted “investment contracts” — but that doesn’t mean that all NFTs are.\n",
      "\n"
     ]
    }
   ],
   "source": [
    "for i in range(10):\n",
    "    print(f\"Entry: {i+1}\")\n",
    "    print(f\"Time: {feed.entries[i].published} GMT\")\n",
    "    print(f\"Title: {feed.entries[i].title}\")\n",
    "    print(f\"Summary: {(feed.entries[i].summary).split('<p>')[1].split('</p>')[0]}\")\n",
    "    print()"
   ]
  },
  {
   "cell_type": "code",
   "execution_count": 10,
   "metadata": {},
   "outputs": [
    {
     "data": {
      "text/plain": [
       "30"
      ]
     },
     "execution_count": 10,
     "metadata": {},
     "output_type": "execute_result"
    }
   ],
   "source": [
    "len(feed.entries)"
   ]
  }
 ],
 "metadata": {
  "kernelspec": {
   "display_name": "crypto",
   "language": "python",
   "name": "python3"
  },
  "language_info": {
   "codemirror_mode": {
    "name": "ipython",
    "version": 3
   },
   "file_extension": ".py",
   "mimetype": "text/x-python",
   "name": "python",
   "nbconvert_exporter": "python",
   "pygments_lexer": "ipython3",
   "version": "3.10.6"
  },
  "orig_nbformat": 4,
  "vscode": {
   "interpreter": {
    "hash": "387e88cbe8050b647ec0430589b39a258f16fc0a17b5df8261967f13a5e410fe"
   }
  }
 },
 "nbformat": 4,
 "nbformat_minor": 2
}
