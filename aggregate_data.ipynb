{
 "cells": [
  {
   "cell_type": "markdown",
   "metadata": {},
   "source": [
    "## Download Data\n",
    "API Details: https://github.com/binance/binance-public-data/#trades-1\n",
    "\n",
    "https://data.binance.vision/?prefix=data/spot/daily/trades/BTCUSDT/"
   ]
  },
  {
   "cell_type": "code",
   "execution_count": null,
   "metadata": {},
   "outputs": [],
   "source": [
    "# import wget\n",
    "import os\n",
    "import wget\n",
    "import pandas as pd\n",
    "from datetime import datetime, timedelta\n",
    "\n",
    "curr_day = datetime(2021, 3, 1)\n",
    "# y = \"2021\"\n",
    "# m = \"03\"\n",
    "# d = \"01\"\n",
    "period = \"1m\"\n",
    "currency = \"BTCUSDT\"\n",
    "data_dir = \"./binance_data\"\n",
    "\n",
    "# if not os.path.exists(f\"./binance_data/{currency}-trades-{y}-{m}-{d}.csv\") and not os.path.exists(f\"./binance_data/{currency}-trades-{y}-{m}-{d}.zip\"):\n",
    "#     ! wget -P {data_dir}/ https://data.binance.vision/data/spot/daily/trades/{currency}/{currency}-trades-{y}-{m}-{d}.zip\n",
    "#     ! unzip ./binance_data/{currency}-trades-{y}-{m}-{d}.zip -d ./binance_data\n",
    "while (datetime.now()  - curr_day).days > 0:\n",
    "    \n",
    "    y, m, d = str(curr_day.year), str(curr_day.month).zfill(2), str(curr_day.day).zfill(2)\n",
    "    if not os.path.exists(f\"./binance_data/{currency}-{period}-{y}-{m}-{d}.csv\"):\n",
    "        ! wget -P {data_dir}/ https://data.binance.vision/data/spot/daily/klines/{currency}/{period}/{currency}-{period}-{y}-{m}-{d}.zip\n",
    "        ! unzip ./binance_data/{currency}-{period}-{y}-{m}-{d}.zip -d ./binance_data\n",
    "        ! rm ./binance_data/{currency}-{period}-{y}-{m}-{d}.zip\n",
    "\n",
    "    curr_day += timedelta(days=1)"
   ]
  },
  {
   "cell_type": "markdown",
   "metadata": {},
   "source": [
    "## Read Data"
   ]
  },
  {
   "cell_type": "code",
   "execution_count": null,
   "metadata": {},
   "outputs": [],
   "source": [
    "from datetime import datetime, timedelta\n",
    "import pandas as pd\n",
    "\n",
    "curr_day = datetime(2021, 3, 1)\n",
    "\n",
    "currency = \"BTCUSDT\"\n",
    "data_dir = \"./binance_data\"\n",
    "period = \"1m\"\n",
    "\n",
    "combined_df = pd.DataFrame(columns=['OpenTime', 'Open', 'High', 'Low', 'Close', 'Volume', 'CloseTime', 'QuoteAssetVolume', 'NumberOfTrades', 'TakerBuyBaseAssetVolume', 'TakerBuyQuoteAssetVolume', 'Ignore'])\n",
    "\n",
    "while (datetime.now()  - curr_day).days > 0:\n",
    "\n",
    "    y, m, d = str(curr_day.year), str(curr_day.month).zfill(2), str(curr_day.day).zfill(2)\n",
    "    df = pd.read_csv(f\"{data_dir}/{currency}-{period}-{y}-{m}-{d}.csv\")\n",
    "    df.loc[-1] = df.columns.values\n",
    "    df.sort_index(inplace=True)\n",
    "    df.reset_index(drop=True, inplace=True)\n",
    "    df.columns = ['OpenTime', 'Open', 'High', 'Low', 'Close', 'Volume', 'CloseTime', 'QuoteAssetVolume', 'NumberOfTrades', 'TakerBuyBaseAssetVolume', 'TakerBuyQuoteAssetVolume', 'Ignore']\n",
    "    df['OpenTimeReadable'] = pd.to_datetime(df['OpenTime'], unit='ms')\n",
    "    \n",
    "    combined_df = pd.concat([combined_df, df], ignore_index=True)\n",
    "    print(f\"Done with {y}-{m}-{d}\")\n",
    "    curr_day += timedelta(days=1)\n",
    "\n",
    "combined_df.to_csv(f\"{data_dir}/{currency}-{period}-combined.csv\", index=False)\n",
    "combined_df"
   ]
  }
 ],
 "metadata": {
  "kernelspec": {
   "display_name": "Python 3.10.6 ('capstone')",
   "language": "python",
   "name": "python3"
  },
  "language_info": {
   "codemirror_mode": {
    "name": "ipython",
    "version": 3
   },
   "file_extension": ".py",
   "mimetype": "text/x-python",
   "name": "python",
   "nbconvert_exporter": "python",
   "pygments_lexer": "ipython3",
   "version": "3.10.6"
  },
  "orig_nbformat": 4,
  "vscode": {
   "interpreter": {
    "hash": "9c4e0e97e56b55bb7e390bbeb99c575aca79ef885e231d981673e36684b021fb"
   }
  }
 },
 "nbformat": 4,
 "nbformat_minor": 2
}
