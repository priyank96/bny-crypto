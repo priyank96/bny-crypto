{
 "cells": [
  {
   "cell_type": "code",
   "execution_count": 2,
   "metadata": {},
   "outputs": [
    {
     "name": "stdout",
     "output_type": "stream",
     "text": [
      "Collecting streamlit-searchbox\n",
      "  Downloading streamlit_searchbox-0.1.3-py3-none-any.whl (662 kB)\n",
      "\u001b[2K     \u001b[90m━━━━━━━━━━━━━━━━━━━━━━━━━━━━━━━━━━━━━━━\u001b[0m \u001b[32m662.3/662.3 kB\u001b[0m \u001b[31m5.6 MB/s\u001b[0m eta \u001b[36m0:00:00\u001b[0m00:01\u001b[0m00:01\u001b[0m\n",
      "\u001b[?25hRequirement already satisfied: streamlit>=0.63 in /Users/ranadeep/miniforge3/envs/crypto/lib/python3.10/site-packages (from streamlit-searchbox) (1.21.0)\n",
      "Requirement already satisfied: tornado>=6.0.3 in /Users/ranadeep/miniforge3/envs/crypto/lib/python3.10/site-packages (from streamlit>=0.63->streamlit-searchbox) (6.2)\n",
      "Requirement already satisfied: requests>=2.4 in /Users/ranadeep/miniforge3/envs/crypto/lib/python3.10/site-packages (from streamlit>=0.63->streamlit-searchbox) (2.28.1)\n",
      "Requirement already satisfied: gitpython!=3.1.19 in /Users/ranadeep/miniforge3/envs/crypto/lib/python3.10/site-packages (from streamlit>=0.63->streamlit-searchbox) (3.1.31)\n",
      "Requirement already satisfied: pydeck>=0.1.dev5 in /Users/ranadeep/miniforge3/envs/crypto/lib/python3.10/site-packages (from streamlit>=0.63->streamlit-searchbox) (0.8.0)\n",
      "Requirement already satisfied: protobuf<4,>=3.12 in /Users/ranadeep/miniforge3/envs/crypto/lib/python3.10/site-packages (from streamlit>=0.63->streamlit-searchbox) (3.19.4)\n",
      "Requirement already satisfied: validators>=0.2 in /Users/ranadeep/miniforge3/envs/crypto/lib/python3.10/site-packages (from streamlit>=0.63->streamlit-searchbox) (0.20.0)\n",
      "Requirement already satisfied: altair<5,>=3.2.0 in /Users/ranadeep/miniforge3/envs/crypto/lib/python3.10/site-packages (from streamlit>=0.63->streamlit-searchbox) (4.2.2)\n",
      "Requirement already satisfied: pandas<2,>=0.25 in /Users/ranadeep/miniforge3/envs/crypto/lib/python3.10/site-packages (from streamlit>=0.63->streamlit-searchbox) (1.5.2)\n",
      "Requirement already satisfied: cachetools>=4.0 in /Users/ranadeep/miniforge3/envs/crypto/lib/python3.10/site-packages (from streamlit>=0.63->streamlit-searchbox) (4.2.2)\n",
      "Requirement already satisfied: rich>=10.11.0 in /Users/ranadeep/miniforge3/envs/crypto/lib/python3.10/site-packages (from streamlit>=0.63->streamlit-searchbox) (13.3.1)\n",
      "Requirement already satisfied: tzlocal>=1.1 in /Users/ranadeep/miniforge3/envs/crypto/lib/python3.10/site-packages (from streamlit>=0.63->streamlit-searchbox) (4.2)\n",
      "Requirement already satisfied: pympler>=0.9 in /Users/ranadeep/miniforge3/envs/crypto/lib/python3.10/site-packages (from streamlit>=0.63->streamlit-searchbox) (1.0.1)\n",
      "Requirement already satisfied: click>=7.0 in /Users/ranadeep/miniforge3/envs/crypto/lib/python3.10/site-packages (from streamlit>=0.63->streamlit-searchbox) (8.0.0)\n",
      "Requirement already satisfied: toml in /Users/ranadeep/miniforge3/envs/crypto/lib/python3.10/site-packages (from streamlit>=0.63->streamlit-searchbox) (0.10.2)\n",
      "Requirement already satisfied: blinker>=1.0.0 in /Users/ranadeep/miniforge3/envs/crypto/lib/python3.10/site-packages (from streamlit>=0.63->streamlit-searchbox) (1.5)\n",
      "Requirement already satisfied: pyarrow>=4.0 in /Users/ranadeep/miniforge3/envs/crypto/lib/python3.10/site-packages (from streamlit>=0.63->streamlit-searchbox) (9.0.0)\n",
      "Requirement already satisfied: python-dateutil in /Users/ranadeep/miniforge3/envs/crypto/lib/python3.10/site-packages (from streamlit>=0.63->streamlit-searchbox) (2.8.2)\n",
      "Requirement already satisfied: pillow>=6.2.0 in /Users/ranadeep/miniforge3/envs/crypto/lib/python3.10/site-packages (from streamlit>=0.63->streamlit-searchbox) (9.2.0)\n",
      "Requirement already satisfied: numpy in /Users/ranadeep/miniforge3/envs/crypto/lib/python3.10/site-packages (from streamlit>=0.63->streamlit-searchbox) (1.23.3)\n",
      "Requirement already satisfied: typing-extensions>=3.10.0.0 in /Users/ranadeep/miniforge3/envs/crypto/lib/python3.10/site-packages (from streamlit>=0.63->streamlit-searchbox) (4.3.0)\n",
      "Requirement already satisfied: packaging>=14.1 in /Users/ranadeep/miniforge3/envs/crypto/lib/python3.10/site-packages (from streamlit>=0.63->streamlit-searchbox) (21.3)\n",
      "Requirement already satisfied: importlib-metadata>=1.4 in /Users/ranadeep/miniforge3/envs/crypto/lib/python3.10/site-packages (from streamlit>=0.63->streamlit-searchbox) (6.0.0)\n",
      "Requirement already satisfied: toolz in /Users/ranadeep/miniforge3/envs/crypto/lib/python3.10/site-packages (from altair<5,>=3.2.0->streamlit>=0.63->streamlit-searchbox) (0.12.0)\n",
      "Requirement already satisfied: jsonschema>=3.0 in /Users/ranadeep/miniforge3/envs/crypto/lib/python3.10/site-packages (from altair<5,>=3.2.0->streamlit>=0.63->streamlit-searchbox) (4.16.0)\n",
      "Requirement already satisfied: jinja2 in /Users/ranadeep/miniforge3/envs/crypto/lib/python3.10/site-packages (from altair<5,>=3.2.0->streamlit>=0.63->streamlit-searchbox) (3.1.2)\n",
      "Requirement already satisfied: entrypoints in /Users/ranadeep/miniforge3/envs/crypto/lib/python3.10/site-packages (from altair<5,>=3.2.0->streamlit>=0.63->streamlit-searchbox) (0.4)\n",
      "Requirement already satisfied: gitdb<5,>=4.0.1 in /Users/ranadeep/miniforge3/envs/crypto/lib/python3.10/site-packages (from gitpython!=3.1.19->streamlit>=0.63->streamlit-searchbox) (4.0.10)\n",
      "Requirement already satisfied: zipp>=0.5 in /Users/ranadeep/miniforge3/envs/crypto/lib/python3.10/site-packages (from importlib-metadata>=1.4->streamlit>=0.63->streamlit-searchbox) (3.15.0)\n",
      "Requirement already satisfied: pyparsing!=3.0.5,>=2.0.2 in /Users/ranadeep/miniforge3/envs/crypto/lib/python3.10/site-packages (from packaging>=14.1->streamlit>=0.63->streamlit-searchbox) (3.0.9)\n",
      "Requirement already satisfied: pytz>=2020.1 in /Users/ranadeep/miniforge3/envs/crypto/lib/python3.10/site-packages (from pandas<2,>=0.25->streamlit>=0.63->streamlit-searchbox) (2022.2.1)\n",
      "Requirement already satisfied: six>=1.5 in /Users/ranadeep/miniforge3/envs/crypto/lib/python3.10/site-packages (from python-dateutil->streamlit>=0.63->streamlit-searchbox) (1.16.0)\n",
      "Requirement already satisfied: urllib3<1.27,>=1.21.1 in /Users/ranadeep/miniforge3/envs/crypto/lib/python3.10/site-packages (from requests>=2.4->streamlit>=0.63->streamlit-searchbox) (1.26.12)\n",
      "Requirement already satisfied: charset-normalizer<3,>=2 in /Users/ranadeep/miniforge3/envs/crypto/lib/python3.10/site-packages (from requests>=2.4->streamlit>=0.63->streamlit-searchbox) (2.1.1)\n",
      "Requirement already satisfied: idna<4,>=2.5 in /Users/ranadeep/miniforge3/envs/crypto/lib/python3.10/site-packages (from requests>=2.4->streamlit>=0.63->streamlit-searchbox) (3.4)\n",
      "Requirement already satisfied: certifi>=2017.4.17 in /Users/ranadeep/miniforge3/envs/crypto/lib/python3.10/site-packages (from requests>=2.4->streamlit>=0.63->streamlit-searchbox) (2022.9.24)\n",
      "Requirement already satisfied: pygments<3.0.0,>=2.14.0 in /Users/ranadeep/miniforge3/envs/crypto/lib/python3.10/site-packages (from rich>=10.11.0->streamlit>=0.63->streamlit-searchbox) (2.14.0)\n",
      "Requirement already satisfied: markdown-it-py<3.0.0,>=2.1.0 in /Users/ranadeep/miniforge3/envs/crypto/lib/python3.10/site-packages (from rich>=10.11.0->streamlit>=0.63->streamlit-searchbox) (2.2.0)\n",
      "Requirement already satisfied: pytz-deprecation-shim in /Users/ranadeep/miniforge3/envs/crypto/lib/python3.10/site-packages (from tzlocal>=1.1->streamlit>=0.63->streamlit-searchbox) (0.1.0.post0)\n",
      "Requirement already satisfied: decorator>=3.4.0 in /Users/ranadeep/miniforge3/envs/crypto/lib/python3.10/site-packages (from validators>=0.2->streamlit>=0.63->streamlit-searchbox) (5.1.1)\n",
      "Requirement already satisfied: smmap<6,>=3.0.1 in /Users/ranadeep/miniforge3/envs/crypto/lib/python3.10/site-packages (from gitdb<5,>=4.0.1->gitpython!=3.1.19->streamlit>=0.63->streamlit-searchbox) (5.0.0)\n",
      "Requirement already satisfied: MarkupSafe>=2.0 in /Users/ranadeep/miniforge3/envs/crypto/lib/python3.10/site-packages (from jinja2->altair<5,>=3.2.0->streamlit>=0.63->streamlit-searchbox) (2.1.1)\n",
      "Requirement already satisfied: attrs>=17.4.0 in /Users/ranadeep/miniforge3/envs/crypto/lib/python3.10/site-packages (from jsonschema>=3.0->altair<5,>=3.2.0->streamlit>=0.63->streamlit-searchbox) (22.1.0)\n",
      "Requirement already satisfied: pyrsistent!=0.17.0,!=0.17.1,!=0.17.2,>=0.14.0 in /Users/ranadeep/miniforge3/envs/crypto/lib/python3.10/site-packages (from jsonschema>=3.0->altair<5,>=3.2.0->streamlit>=0.63->streamlit-searchbox) (0.18.1)\n",
      "Requirement already satisfied: mdurl~=0.1 in /Users/ranadeep/miniforge3/envs/crypto/lib/python3.10/site-packages (from markdown-it-py<3.0.0,>=2.1.0->rich>=10.11.0->streamlit>=0.63->streamlit-searchbox) (0.1.2)\n",
      "Requirement already satisfied: tzdata in /Users/ranadeep/miniforge3/envs/crypto/lib/python3.10/site-packages (from pytz-deprecation-shim->tzlocal>=1.1->streamlit>=0.63->streamlit-searchbox) (2022.5)\n",
      "Installing collected packages: streamlit-searchbox\n",
      "Successfully installed streamlit-searchbox-0.1.3\n"
     ]
    }
   ],
   "source": [
    "! pip install streamlit-searchbox"
   ]
  },
  {
   "cell_type": "markdown",
   "metadata": {},
   "source": [
    "## Download Data\n",
    "API Details: https://github.com/binance/binance-public-data/#trades-1\n",
    "\n",
    "https://data.binance.vision/?prefix=data/spot/daily/trades/BTCUSDT/"
   ]
  },
  {
   "cell_type": "code",
   "execution_count": null,
   "metadata": {},
   "outputs": [],
   "source": [
    "# import wget\n",
    "import os\n",
    "import wget\n",
    "import pandas as pd\n",
    "from datetime import datetime, timedelta\n",
    "\n",
    "curr_day = datetime(2021, 3, 1)\n",
    "# y = \"2021\"\n",
    "# m = \"03\"\n",
    "# d = \"01\"\n",
    "period = \"1m\"\n",
    "currency = \"BTCUSDT\"\n",
    "data_dir = \"./binance_data\"\n",
    "\n",
    "# if not os.path.exists(f\"./binance_data/{currency}-trades-{y}-{m}-{d}.csv\") and not os.path.exists(f\"./binance_data/{currency}-trades-{y}-{m}-{d}.zip\"):\n",
    "#     ! wget -P {data_dir}/ https://data.binance.vision/data/spot/daily/trades/{currency}/{currency}-trades-{y}-{m}-{d}.zip\n",
    "#     ! unzip ./binance_data/{currency}-trades-{y}-{m}-{d}.zip -d ./binance_data\n",
    "while (datetime.now()  - curr_day).days > 0:\n",
    "    \n",
    "    y, m, d = str(curr_day.year), str(curr_day.month).zfill(2), str(curr_day.day).zfill(2)\n",
    "    if not os.path.exists(f\"./binance_data/{currency}-{period}-{y}-{m}-{d}.csv\"):\n",
    "        ! wget -P {data_dir}/ https://data.binance.vision/data/spot/daily/klines/{currency}/{period}/{currency}-{period}-{y}-{m}-{d}.zip\n",
    "        ! unzip ./binance_data/{currency}-{period}-{y}-{m}-{d}.zip -d ./binance_data\n",
    "        ! rm ./binance_data/{currency}-{period}-{y}-{m}-{d}.zip\n",
    "\n",
    "    curr_day += timedelta(days=1)"
   ]
  },
  {
   "cell_type": "markdown",
   "metadata": {},
   "source": [
    "## Read Data"
   ]
  },
  {
   "cell_type": "code",
   "execution_count": null,
   "metadata": {},
   "outputs": [],
   "source": [
    "from datetime import datetime, timedelta\n",
    "import pandas as pd\n",
    "\n",
    "curr_day = datetime(2021, 3, 1)\n",
    "\n",
    "currency = \"BTCUSDT\"\n",
    "data_dir = \"./binance_data\"\n",
    "period = \"1m\"\n",
    "\n",
    "combined_df = pd.DataFrame(columns=['OpenTime', 'Open', 'High', 'Low', 'Close', 'Volume', 'CloseTime', 'QuoteAssetVolume', 'NumberOfTrades', 'TakerBuyBaseAssetVolume', 'TakerBuyQuoteAssetVolume', 'Ignore'])\n",
    "\n",
    "while (datetime.now()  - curr_day).days > 0:\n",
    "\n",
    "    y, m, d = str(curr_day.year), str(curr_day.month).zfill(2), str(curr_day.day).zfill(2)\n",
    "    df = pd.read_csv(f\"{data_dir}/{currency}-{period}-{y}-{m}-{d}.csv\")\n",
    "    df.loc[-1] = df.columns.values\n",
    "    df.sort_index(inplace=True)\n",
    "    df.reset_index(drop=True, inplace=True)\n",
    "    df.columns = ['OpenTime', 'Open', 'High', 'Low', 'Close', 'Volume', 'CloseTime', 'QuoteAssetVolume', 'NumberOfTrades', 'TakerBuyBaseAssetVolume', 'TakerBuyQuoteAssetVolume', 'Ignore']\n",
    "    df['OpenTimeReadable'] = pd.to_datetime(df['OpenTime'], unit='ms')\n",
    "    \n",
    "    combined_df = pd.concat([combined_df, df], ignore_index=True)\n",
    "    print(f\"Done with {y}-{m}-{d}\")\n",
    "    curr_day += timedelta(days=1)\n",
    "\n",
    "combined_df.to_csv(f\"{data_dir}/{currency}-{period}-combined.csv\", index=False)\n",
    "combined_df"
   ]
  }
 ],
 "metadata": {
  "kernelspec": {
   "display_name": "Python 3.10.6 ('capstone')",
   "language": "python",
   "name": "python3"
  },
  "language_info": {
   "codemirror_mode": {
    "name": "ipython",
    "version": 3
   },
   "file_extension": ".py",
   "mimetype": "text/x-python",
   "name": "python",
   "nbconvert_exporter": "python",
   "pygments_lexer": "ipython3",
   "version": "3.10.6"
  },
  "orig_nbformat": 4,
  "vscode": {
   "interpreter": {
    "hash": "9c4e0e97e56b55bb7e390bbeb99c575aca79ef885e231d981673e36684b021fb"
   }
  }
 },
 "nbformat": 4,
 "nbformat_minor": 2
}
