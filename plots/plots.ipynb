{
 "cells": [
  {
   "attachments": {},
   "cell_type": "markdown",
   "metadata": {},
   "source": [
    "### Horizonal charts\n",
    "Ref: https://plotly.com/python/horizontal-bar-charts/"
   ]
  },
  {
   "cell_type": "code",
   "execution_count": null,
   "metadata": {},
   "outputs": [],
   "source": [
    "! pip install --upgrade matplotlib"
   ]
  },
  {
   "cell_type": "code",
   "execution_count": null,
   "metadata": {},
   "outputs": [],
   "source": [
    "import plotly.graph_objects as go\n",
    "\n",
    "postitive_chance = 0.2\n",
    "negative_chance = 0.5\n",
    "neutral_chance = 1 - postitive_chance - negative_chance\n",
    "title = ''\n",
    "layout = go.Layout(\n",
    "    # paper_bgcolor='rgba(0,0,0,0)',\n",
    "    plot_bgcolor='rgba(0,0,0,0)'\n",
    ")\n",
    "\n",
    "fig = go.Figure(layout=layout)\n",
    "fig.add_trace(go.Bar(\n",
    "    y=[title],\n",
    "    x=[postitive_chance],\n",
    "    name='Positive',\n",
    "    orientation='h',\n",
    "    marker=dict(\n",
    "        color='rgba(0, 255, 0, 1)',\n",
    "        # line=dict(color='rgba(55, 255, 55, 1.0)', width=3)\n",
    "    ),\n",
    "    showlegend=False\n",
    "))\n",
    "fig.add_trace(go.Bar(\n",
    "    y=[title],\n",
    "    x=[neutral_chance],\n",
    "    name='Neutral',\n",
    "    orientation='h',\n",
    "    marker=dict(\n",
    "        color='rgba(170, 170, 170, 1)',\n",
    "        # line=dict(color='rgba(58, 71, 80, 1.0)', width=3)\n",
    "    ),\n",
    "    showlegend=False\n",
    "))\n",
    "fig.add_trace(go.Bar(\n",
    "    y=[title],\n",
    "    x=[negative_chance],\n",
    "    name='Negative',\n",
    "    orientation='h',\n",
    "    marker=dict(\n",
    "        color='rgba(255, 0, 0, 1)',\n",
    "        # line=dict(color='rgba(58, 71, 80, 1.0)', width=3)\n",
    "    ),\n",
    "    showlegend=False\n",
    "))\n",
    "\n",
    "fig.update_layout(barmode='stack', height=200, title=\"Price Movement\")\n",
    "fig.show()"
   ]
  },
  {
   "attachments": {},
   "cell_type": "markdown",
   "metadata": {},
   "source": [
    "### Filled Area Plots\n",
    "Ref: https://plotly.com/python/filled-area-plots/"
   ]
  },
  {
   "cell_type": "code",
   "execution_count": null,
   "metadata": {},
   "outputs": [],
   "source": [
    "import plotly.graph_objects as go\n",
    "import random\n",
    "\n",
    "title = 'Trend Line Plot'\n",
    "n = 10\n",
    "x = list(range(1,n+1))\n",
    "\n",
    "\n",
    "fig = go.Figure()\n",
    "fig.add_trace(go.Scatter(x=x, y=[random.randint(1, 10) for i in range(n)], fill='tozeroy', name=\"Historic\",marker=dict(color=\"green\"))) # fill down to xaxis\n",
    "fig.add_trace(go.Scatter(x=x, y=[random.randint(1, 10) for i in range(n)], fill='tonexty', name=\"Latest\")) # fill to trace0 y\n",
    "fig.update_layout(title=title)\n",
    "fig.show()"
   ]
  },
  {
   "cell_type": "code",
   "execution_count": null,
   "metadata": {},
   "outputs": [],
   "source": [
    "import plots\n",
    "import plotly.graph_objects as go\n",
    "import random\n",
    "\n",
    "def trend_line_plot(title='Trend Line Plot', n=10):\n",
    "    n = 10\n",
    "    x = list(range(1,n+1))\n",
    "\n",
    "    fig = go.Figure()\n",
    "    fig.add_trace(go.Scatter(x=x, y=[random.randint(1, 10) for i in range(n)], fill='tozeroy', name=\"Historic\", marker=dict(color=\"red\"))) # fill down to xaxis\n",
    "    fig.add_trace(go.Scatter(x=x, y=[random.randint(1, 10) for i in range(n)], fill='tozeroy', name=\"Latest\", marker=dict(color=\"blue\"))) # fill to trace0 y\n",
    "    fig.update_layout(title=title)\n",
    "\n",
    "    return fig\n",
    "fig = trend_line_plot(title='Mentions')\n",
    "fig.show()"
   ]
  },
  {
   "cell_type": "code",
   "execution_count": null,
   "metadata": {},
   "outputs": [],
   "source": [
    "import plotly.graph_objects as go\n",
    "\n",
    "fig = go.Figure(go.Indicator(\n",
    "    mode = \"gauge+number\",\n",
    "    value = 0.3,\n",
    "    domain = {'x': [0, 1], 'y': [0, 1]},\n",
    "    title = {'text': \"CRYSys Risk Score\"}),\n",
    "    gauge = {'axis': {'range': [None, 1]},\n",
    "    }\n",
    "    )\n",
    "\n",
    "fig.show()"
   ]
  },
  {
   "cell_type": "code",
   "execution_count": null,
   "metadata": {},
   "outputs": [],
   "source": [
    "import datetime\n",
    "\n",
    "datetime.datetime(2019, 2, 21, 5, 0, 0, 0)"
   ]
  },
  {
   "cell_type": "code",
   "execution_count": null,
   "metadata": {},
   "outputs": [],
   "source": [
    "import pandas as pd\n",
    "price_data_df = pd.read_csv(\"../new_values.csv\")\n",
    "price_data_df"
   ]
  },
  {
   "cell_type": "code",
   "execution_count": null,
   "metadata": {},
   "outputs": [],
   "source": [
    "price_data_df['volume'].max()"
   ]
  },
  {
   "cell_type": "code",
   "execution_count": 59,
   "metadata": {},
   "outputs": [
    {
     "data": {
      "text/html": [
       "<div>\n",
       "<style scoped>\n",
       "    .dataframe tbody tr th:only-of-type {\n",
       "        vertical-align: middle;\n",
       "    }\n",
       "\n",
       "    .dataframe tbody tr th {\n",
       "        vertical-align: top;\n",
       "    }\n",
       "\n",
       "    .dataframe thead th {\n",
       "        text-align: right;\n",
       "    }\n",
       "</style>\n",
       "<table border=\"1\" class=\"dataframe\">\n",
       "  <thead>\n",
       "    <tr style=\"text-align: right;\">\n",
       "      <th></th>\n",
       "      <th>Unnamed: 0</th>\n",
       "      <th>PSY_1d_95</th>\n",
       "      <th>PSY_3d_95</th>\n",
       "      <th>KAMA</th>\n",
       "      <th>VWAP</th>\n",
       "      <th>close</th>\n",
       "      <th>Avg True Range</th>\n",
       "      <th>Negative Volume Index</th>\n",
       "      <th>var_90</th>\n",
       "      <th>Ulcer Index</th>\n",
       "      <th>...</th>\n",
       "      <th>hs_Mass Index_dtw_matrix.npy_col50</th>\n",
       "      <th>hs_volume_change_dtw_matrix.npy_col5</th>\n",
       "      <th>hs_SENTIMENT_POS_dtw_matrix.npy_col50</th>\n",
       "      <th>hs_Negative Volume Index_dtw_matrix.npy_col300</th>\n",
       "      <th>hs_Negative Volume Index_dtw_matrix.npy_col10</th>\n",
       "      <th>hs_Vortex Indicator_dtw_matrix.npy_col5</th>\n",
       "      <th>entity_avg_fmdd</th>\n",
       "      <th>entity_max_fmdd</th>\n",
       "      <th>rolling_count_importance</th>\n",
       "      <th>coindesk_counts</th>\n",
       "    </tr>\n",
       "  </thead>\n",
       "  <tbody>\n",
       "    <tr>\n",
       "      <th>0</th>\n",
       "      <td>19480</td>\n",
       "      <td>-0.210063</td>\n",
       "      <td>-0.20493</td>\n",
       "      <td>-0.752039</td>\n",
       "      <td>-0.482429</td>\n",
       "      <td>-0.725728</td>\n",
       "      <td>-0.879726</td>\n",
       "      <td>1.581014</td>\n",
       "      <td>-1.084140</td>\n",
       "      <td>0.154497</td>\n",
       "      <td>...</td>\n",
       "      <td>-0.441067</td>\n",
       "      <td>-0.517086</td>\n",
       "      <td>-0.893302</td>\n",
       "      <td>-0.681451</td>\n",
       "      <td>-0.332312</td>\n",
       "      <td>-0.453057</td>\n",
       "      <td>-0.447692</td>\n",
       "      <td>-0.398747</td>\n",
       "      <td>-0.249576</td>\n",
       "      <td>-0.252544</td>\n",
       "    </tr>\n",
       "    <tr>\n",
       "      <th>1</th>\n",
       "      <td>19600</td>\n",
       "      <td>-0.210063</td>\n",
       "      <td>-0.20493</td>\n",
       "      <td>-0.501284</td>\n",
       "      <td>-0.488328</td>\n",
       "      <td>-0.478849</td>\n",
       "      <td>-1.080477</td>\n",
       "      <td>1.647587</td>\n",
       "      <td>-1.110953</td>\n",
       "      <td>-0.578095</td>\n",
       "      <td>...</td>\n",
       "      <td>-0.757660</td>\n",
       "      <td>-0.517086</td>\n",
       "      <td>-0.472788</td>\n",
       "      <td>-0.681451</td>\n",
       "      <td>-0.332312</td>\n",
       "      <td>1.022831</td>\n",
       "      <td>-0.447692</td>\n",
       "      <td>-0.398747</td>\n",
       "      <td>-0.249576</td>\n",
       "      <td>-0.252544</td>\n",
       "    </tr>\n",
       "    <tr>\n",
       "      <th>2</th>\n",
       "      <td>17904</td>\n",
       "      <td>-0.210063</td>\n",
       "      <td>-0.20493</td>\n",
       "      <td>-0.619922</td>\n",
       "      <td>-0.441411</td>\n",
       "      <td>-0.691272</td>\n",
       "      <td>0.513540</td>\n",
       "      <td>1.186864</td>\n",
       "      <td>-0.861130</td>\n",
       "      <td>-0.098739</td>\n",
       "      <td>...</td>\n",
       "      <td>-1.074252</td>\n",
       "      <td>-0.517086</td>\n",
       "      <td>-0.893302</td>\n",
       "      <td>0.343421</td>\n",
       "      <td>-0.332312</td>\n",
       "      <td>-0.453057</td>\n",
       "      <td>-0.447692</td>\n",
       "      <td>-0.398747</td>\n",
       "      <td>-0.249576</td>\n",
       "      <td>-0.252544</td>\n",
       "    </tr>\n",
       "    <tr>\n",
       "      <th>3</th>\n",
       "      <td>19611</td>\n",
       "      <td>-0.210063</td>\n",
       "      <td>-0.20493</td>\n",
       "      <td>-0.493288</td>\n",
       "      <td>-0.488658</td>\n",
       "      <td>-0.460178</td>\n",
       "      <td>-1.184700</td>\n",
       "      <td>1.667978</td>\n",
       "      <td>-1.114932</td>\n",
       "      <td>-0.913467</td>\n",
       "      <td>...</td>\n",
       "      <td>-0.757660</td>\n",
       "      <td>-0.517086</td>\n",
       "      <td>-0.052273</td>\n",
       "      <td>-0.681451</td>\n",
       "      <td>-0.332312</td>\n",
       "      <td>-0.453057</td>\n",
       "      <td>-0.447692</td>\n",
       "      <td>-0.398747</td>\n",
       "      <td>-0.249576</td>\n",
       "      <td>-0.252544</td>\n",
       "    </tr>\n",
       "    <tr>\n",
       "      <th>4</th>\n",
       "      <td>5688</td>\n",
       "      <td>-0.210063</td>\n",
       "      <td>-0.20493</td>\n",
       "      <td>-1.148299</td>\n",
       "      <td>-0.500560</td>\n",
       "      <td>-1.173175</td>\n",
       "      <td>-1.033603</td>\n",
       "      <td>-0.887866</td>\n",
       "      <td>2.108059</td>\n",
       "      <td>-0.431813</td>\n",
       "      <td>...</td>\n",
       "      <td>0.192117</td>\n",
       "      <td>-0.517086</td>\n",
       "      <td>1.209271</td>\n",
       "      <td>0.441028</td>\n",
       "      <td>0.420295</td>\n",
       "      <td>1.022831</td>\n",
       "      <td>-0.447692</td>\n",
       "      <td>-0.398747</td>\n",
       "      <td>-0.249576</td>\n",
       "      <td>-0.208360</td>\n",
       "    </tr>\n",
       "    <tr>\n",
       "      <th>...</th>\n",
       "      <td>...</td>\n",
       "      <td>...</td>\n",
       "      <td>...</td>\n",
       "      <td>...</td>\n",
       "      <td>...</td>\n",
       "      <td>...</td>\n",
       "      <td>...</td>\n",
       "      <td>...</td>\n",
       "      <td>...</td>\n",
       "      <td>...</td>\n",
       "      <td>...</td>\n",
       "      <td>...</td>\n",
       "      <td>...</td>\n",
       "      <td>...</td>\n",
       "      <td>...</td>\n",
       "      <td>...</td>\n",
       "      <td>...</td>\n",
       "      <td>...</td>\n",
       "      <td>...</td>\n",
       "      <td>...</td>\n",
       "      <td>...</td>\n",
       "    </tr>\n",
       "    <tr>\n",
       "      <th>24301</th>\n",
       "      <td>30584</td>\n",
       "      <td>-0.210063</td>\n",
       "      <td>-0.20493</td>\n",
       "      <td>0.447330</td>\n",
       "      <td>2.329045</td>\n",
       "      <td>0.460063</td>\n",
       "      <td>0.172220</td>\n",
       "      <td>-1.328379</td>\n",
       "      <td>-0.537704</td>\n",
       "      <td>-0.152297</td>\n",
       "      <td>...</td>\n",
       "      <td>-1.031719</td>\n",
       "      <td>-0.517086</td>\n",
       "      <td>2.131847</td>\n",
       "      <td>0.733849</td>\n",
       "      <td>-0.332312</td>\n",
       "      <td>-0.453057</td>\n",
       "      <td>-0.447692</td>\n",
       "      <td>-0.398747</td>\n",
       "      <td>-0.249576</td>\n",
       "      <td>-0.252544</td>\n",
       "    </tr>\n",
       "    <tr>\n",
       "      <th>24302</th>\n",
       "      <td>30585</td>\n",
       "      <td>-0.210063</td>\n",
       "      <td>-0.20493</td>\n",
       "      <td>-0.747032</td>\n",
       "      <td>-0.222968</td>\n",
       "      <td>-0.744510</td>\n",
       "      <td>-0.625173</td>\n",
       "      <td>0.606826</td>\n",
       "      <td>-0.704861</td>\n",
       "      <td>-0.551013</td>\n",
       "      <td>...</td>\n",
       "      <td>-1.074252</td>\n",
       "      <td>-0.517086</td>\n",
       "      <td>-1.137370</td>\n",
       "      <td>-0.122787</td>\n",
       "      <td>-0.332312</td>\n",
       "      <td>-0.453057</td>\n",
       "      <td>-0.447692</td>\n",
       "      <td>-0.398747</td>\n",
       "      <td>-0.249576</td>\n",
       "      <td>-0.252544</td>\n",
       "    </tr>\n",
       "    <tr>\n",
       "      <th>24303</th>\n",
       "      <td>30586</td>\n",
       "      <td>-0.210063</td>\n",
       "      <td>-0.20493</td>\n",
       "      <td>-0.979719</td>\n",
       "      <td>0.936655</td>\n",
       "      <td>-1.033937</td>\n",
       "      <td>1.384293</td>\n",
       "      <td>-0.973005</td>\n",
       "      <td>1.848148</td>\n",
       "      <td>0.826563</td>\n",
       "      <td>...</td>\n",
       "      <td>2.327647</td>\n",
       "      <td>-0.517086</td>\n",
       "      <td>1.102192</td>\n",
       "      <td>3.993064</td>\n",
       "      <td>5.880187</td>\n",
       "      <td>-0.453057</td>\n",
       "      <td>2.430754</td>\n",
       "      <td>1.599683</td>\n",
       "      <td>-0.019977</td>\n",
       "      <td>-0.252544</td>\n",
       "    </tr>\n",
       "    <tr>\n",
       "      <th>24304</th>\n",
       "      <td>30587</td>\n",
       "      <td>-0.210063</td>\n",
       "      <td>-0.20493</td>\n",
       "      <td>-0.495752</td>\n",
       "      <td>-0.488528</td>\n",
       "      <td>-0.500143</td>\n",
       "      <td>-1.248807</td>\n",
       "      <td>1.656792</td>\n",
       "      <td>-1.113714</td>\n",
       "      <td>-0.899182</td>\n",
       "      <td>...</td>\n",
       "      <td>-1.074252</td>\n",
       "      <td>-0.517086</td>\n",
       "      <td>-0.337472</td>\n",
       "      <td>-0.681451</td>\n",
       "      <td>-0.332312</td>\n",
       "      <td>-0.453057</td>\n",
       "      <td>-0.447692</td>\n",
       "      <td>-0.398747</td>\n",
       "      <td>-0.249576</td>\n",
       "      <td>-0.252544</td>\n",
       "    </tr>\n",
       "    <tr>\n",
       "      <th>24305</th>\n",
       "      <td>30588</td>\n",
       "      <td>-0.210063</td>\n",
       "      <td>-0.20493</td>\n",
       "      <td>1.332349</td>\n",
       "      <td>2.312756</td>\n",
       "      <td>1.386940</td>\n",
       "      <td>0.047638</td>\n",
       "      <td>-1.213094</td>\n",
       "      <td>-0.667033</td>\n",
       "      <td>-0.916513</td>\n",
       "      <td>...</td>\n",
       "      <td>-0.916835</td>\n",
       "      <td>0.298894</td>\n",
       "      <td>-1.104727</td>\n",
       "      <td>-0.460617</td>\n",
       "      <td>-0.332312</td>\n",
       "      <td>-0.453057</td>\n",
       "      <td>-0.447692</td>\n",
       "      <td>-0.398747</td>\n",
       "      <td>-0.249576</td>\n",
       "      <td>-0.252544</td>\n",
       "    </tr>\n",
       "  </tbody>\n",
       "</table>\n",
       "<p>24306 rows × 54 columns</p>\n",
       "</div>"
      ],
      "text/plain": [
       "       Unnamed: 0  PSY_1d_95  PSY_3d_95      KAMA      VWAP     close  \\\n",
       "0           19480  -0.210063   -0.20493 -0.752039 -0.482429 -0.725728   \n",
       "1           19600  -0.210063   -0.20493 -0.501284 -0.488328 -0.478849   \n",
       "2           17904  -0.210063   -0.20493 -0.619922 -0.441411 -0.691272   \n",
       "3           19611  -0.210063   -0.20493 -0.493288 -0.488658 -0.460178   \n",
       "4            5688  -0.210063   -0.20493 -1.148299 -0.500560 -1.173175   \n",
       "...           ...        ...        ...       ...       ...       ...   \n",
       "24301       30584  -0.210063   -0.20493  0.447330  2.329045  0.460063   \n",
       "24302       30585  -0.210063   -0.20493 -0.747032 -0.222968 -0.744510   \n",
       "24303       30586  -0.210063   -0.20493 -0.979719  0.936655 -1.033937   \n",
       "24304       30587  -0.210063   -0.20493 -0.495752 -0.488528 -0.500143   \n",
       "24305       30588  -0.210063   -0.20493  1.332349  2.312756  1.386940   \n",
       "\n",
       "       Avg True Range  Negative Volume Index    var_90  Ulcer Index  ...  \\\n",
       "0           -0.879726               1.581014 -1.084140     0.154497  ...   \n",
       "1           -1.080477               1.647587 -1.110953    -0.578095  ...   \n",
       "2            0.513540               1.186864 -0.861130    -0.098739  ...   \n",
       "3           -1.184700               1.667978 -1.114932    -0.913467  ...   \n",
       "4           -1.033603              -0.887866  2.108059    -0.431813  ...   \n",
       "...               ...                    ...       ...          ...  ...   \n",
       "24301        0.172220              -1.328379 -0.537704    -0.152297  ...   \n",
       "24302       -0.625173               0.606826 -0.704861    -0.551013  ...   \n",
       "24303        1.384293              -0.973005  1.848148     0.826563  ...   \n",
       "24304       -1.248807               1.656792 -1.113714    -0.899182  ...   \n",
       "24305        0.047638              -1.213094 -0.667033    -0.916513  ...   \n",
       "\n",
       "       hs_Mass Index_dtw_matrix.npy_col50  \\\n",
       "0                               -0.441067   \n",
       "1                               -0.757660   \n",
       "2                               -1.074252   \n",
       "3                               -0.757660   \n",
       "4                                0.192117   \n",
       "...                                   ...   \n",
       "24301                           -1.031719   \n",
       "24302                           -1.074252   \n",
       "24303                            2.327647   \n",
       "24304                           -1.074252   \n",
       "24305                           -0.916835   \n",
       "\n",
       "       hs_volume_change_dtw_matrix.npy_col5  \\\n",
       "0                                 -0.517086   \n",
       "1                                 -0.517086   \n",
       "2                                 -0.517086   \n",
       "3                                 -0.517086   \n",
       "4                                 -0.517086   \n",
       "...                                     ...   \n",
       "24301                             -0.517086   \n",
       "24302                             -0.517086   \n",
       "24303                             -0.517086   \n",
       "24304                             -0.517086   \n",
       "24305                              0.298894   \n",
       "\n",
       "       hs_SENTIMENT_POS_dtw_matrix.npy_col50  \\\n",
       "0                                  -0.893302   \n",
       "1                                  -0.472788   \n",
       "2                                  -0.893302   \n",
       "3                                  -0.052273   \n",
       "4                                   1.209271   \n",
       "...                                      ...   \n",
       "24301                               2.131847   \n",
       "24302                              -1.137370   \n",
       "24303                               1.102192   \n",
       "24304                              -0.337472   \n",
       "24305                              -1.104727   \n",
       "\n",
       "       hs_Negative Volume Index_dtw_matrix.npy_col300  \\\n",
       "0                                           -0.681451   \n",
       "1                                           -0.681451   \n",
       "2                                            0.343421   \n",
       "3                                           -0.681451   \n",
       "4                                            0.441028   \n",
       "...                                               ...   \n",
       "24301                                        0.733849   \n",
       "24302                                       -0.122787   \n",
       "24303                                        3.993064   \n",
       "24304                                       -0.681451   \n",
       "24305                                       -0.460617   \n",
       "\n",
       "       hs_Negative Volume Index_dtw_matrix.npy_col10  \\\n",
       "0                                          -0.332312   \n",
       "1                                          -0.332312   \n",
       "2                                          -0.332312   \n",
       "3                                          -0.332312   \n",
       "4                                           0.420295   \n",
       "...                                              ...   \n",
       "24301                                      -0.332312   \n",
       "24302                                      -0.332312   \n",
       "24303                                       5.880187   \n",
       "24304                                      -0.332312   \n",
       "24305                                      -0.332312   \n",
       "\n",
       "       hs_Vortex Indicator_dtw_matrix.npy_col5  entity_avg_fmdd  \\\n",
       "0                                    -0.453057        -0.447692   \n",
       "1                                     1.022831        -0.447692   \n",
       "2                                    -0.453057        -0.447692   \n",
       "3                                    -0.453057        -0.447692   \n",
       "4                                     1.022831        -0.447692   \n",
       "...                                        ...              ...   \n",
       "24301                                -0.453057        -0.447692   \n",
       "24302                                -0.453057        -0.447692   \n",
       "24303                                -0.453057         2.430754   \n",
       "24304                                -0.453057        -0.447692   \n",
       "24305                                -0.453057        -0.447692   \n",
       "\n",
       "       entity_max_fmdd  rolling_count_importance  coindesk_counts  \n",
       "0            -0.398747                 -0.249576        -0.252544  \n",
       "1            -0.398747                 -0.249576        -0.252544  \n",
       "2            -0.398747                 -0.249576        -0.252544  \n",
       "3            -0.398747                 -0.249576        -0.252544  \n",
       "4            -0.398747                 -0.249576        -0.208360  \n",
       "...                ...                       ...              ...  \n",
       "24301        -0.398747                 -0.249576        -0.252544  \n",
       "24302        -0.398747                 -0.249576        -0.252544  \n",
       "24303         1.599683                 -0.019977        -0.252544  \n",
       "24304        -0.398747                 -0.249576        -0.252544  \n",
       "24305        -0.398747                 -0.249576        -0.252544  \n",
       "\n",
       "[24306 rows x 54 columns]"
      ]
     },
     "execution_count": 59,
     "metadata": {},
     "output_type": "execute_result"
    }
   ],
   "source": [
    "import pandas as pd\n",
    "\n",
    "train_df = pd.read_csv('/Users/ranadeep/Downloads/with_news_train95_12h.csv')\n",
    "val_df = pd.read_csv('/Users/ranadeep/Downloads/with_news_predictions_val_95_12h.csv')\n",
    "test_df = pd.read_csv('/Users/ranadeep/Downloads/with_news_predictions_test_95_12h.csv')\n",
    "train_df"
   ]
  },
  {
   "cell_type": "code",
   "execution_count": 60,
   "metadata": {},
   "outputs": [
    {
     "data": {
      "text/plain": [
       "Index(['Unnamed: 0', 'PSY_1d_95', 'PSY_3d_95', 'KAMA', 'VWAP', 'close',\n",
       "       'Avg True Range', 'Negative Volume Index', 'var_90', 'Ulcer Index',\n",
       "       'PSY_3d_98', 'PIVOT_FIB', 'Mass Index', 'MACD', 'volatility', 'CMO',\n",
       "       'embed_x', 'embed_y', 'embed_z', 'Aroon Indicator', 'umap_embed_3',\n",
       "       'volume', 'SENTIMENT', 'INFLUENCER', 'NORMALIZED_ENGAGEMENT',\n",
       "       'hs_NORMALIZED_ENGAGEMENT_dtw_matrix.npy_col50',\n",
       "       'hs_rsi_dtw_matrix.npy_col5', 'hs_volume_change_dtw_matrix.npy_col50',\n",
       "       'hs_SENTIMENT_POS_dtw_matrix.npy_col10',\n",
       "       'hs_Mass Index_dtw_matrix.npy_col10',\n",
       "       'hs_NORMALIZED_ENGAGEMENT_dtw_matrix.npy_col300',\n",
       "       'hs_Ulcer Index_dtw_matrix.npy_col5',\n",
       "       'hs_volume_change_dtw_matrix.npy_col300',\n",
       "       'hs_Detrend Price Oscillator_dtw_matrix.npy_col10',\n",
       "       'hs_INFLUENCER_dtw_matrix.npy_col10', 'hs_ADX_dtw_matrix.npy_col10',\n",
       "       'hs_INFLUENCER_dtw_matrix.npy_col50', 'hs_chaikin_dtw_matrix.npy_col5',\n",
       "       'hs_Avg True Range_dtw_matrix.npy_col100',\n",
       "       'hs_close_dtw_matrix.npy_col100', 'hs_SENTIMENT_dtw_matrix.npy_col10',\n",
       "       'hs_Avg True Range_dtw_matrix.npy_col10',\n",
       "       'hs_NORMALIZED_ENGAGEMENT_dtw_matrix.npy_col5',\n",
       "       'hs_ADX_dtw_matrix.npy_col50', 'hs_Mass Index_dtw_matrix.npy_col50',\n",
       "       'hs_volume_change_dtw_matrix.npy_col5',\n",
       "       'hs_SENTIMENT_POS_dtw_matrix.npy_col50',\n",
       "       'hs_Negative Volume Index_dtw_matrix.npy_col300',\n",
       "       'hs_Negative Volume Index_dtw_matrix.npy_col10',\n",
       "       'hs_Vortex Indicator_dtw_matrix.npy_col5', 'entity_avg_fmdd',\n",
       "       'entity_max_fmdd', 'rolling_count_importance', 'coindesk_counts'],\n",
       "      dtype='object')"
      ]
     },
     "execution_count": 60,
     "metadata": {},
     "output_type": "execute_result"
    }
   ],
   "source": [
    "train_df.columns"
   ]
  },
  {
   "cell_type": "code",
   "execution_count": 61,
   "metadata": {},
   "outputs": [
    {
     "data": {
      "text/plain": [
       "0       2022-05-19 00:00:00+00:00\n",
       "1       2022-05-19 00:30:00+00:00\n",
       "2       2022-05-19 01:00:00+00:00\n",
       "3       2022-05-19 01:30:00+00:00\n",
       "4       2022-05-19 02:00:00+00:00\n",
       "                  ...            \n",
       "2923    2022-07-18 21:30:00+00:00\n",
       "2924    2022-07-18 22:00:00+00:00\n",
       "2925    2022-07-18 22:30:00+00:00\n",
       "2926    2022-07-18 23:00:00+00:00\n",
       "2927    2022-07-18 23:30:00+00:00\n",
       "Name: timestamp, Length: 2928, dtype: object"
      ]
     },
     "execution_count": 61,
     "metadata": {},
     "output_type": "execute_result"
    }
   ],
   "source": [
    "val_df['timestamp']"
   ]
  },
  {
   "cell_type": "code",
   "execution_count": 62,
   "metadata": {},
   "outputs": [
    {
     "data": {
      "text/plain": [
       "0       2022-07-19 00:30:00+00:00\n",
       "1       2022-07-19 01:00:00+00:00\n",
       "2       2022-07-19 01:30:00+00:00\n",
       "3       2022-07-19 02:00:00+00:00\n",
       "4       2022-07-19 02:30:00+00:00\n",
       "                  ...            \n",
       "3005    2022-09-19 15:00:00+00:00\n",
       "3006    2022-09-19 15:30:00+00:00\n",
       "3007    2022-09-19 16:00:00+00:00\n",
       "3008    2022-09-19 16:30:00+00:00\n",
       "3009    2022-09-19 17:00:00+00:00\n",
       "Name: timestamp, Length: 3010, dtype: object"
      ]
     },
     "execution_count": 62,
     "metadata": {},
     "output_type": "execute_result"
    }
   ],
   "source": [
    "test_df['timestamp']"
   ]
  },
  {
   "cell_type": "code",
   "execution_count": 63,
   "metadata": {},
   "outputs": [
    {
     "data": {
      "text/html": [
       "<div>\n",
       "<style scoped>\n",
       "    .dataframe tbody tr th:only-of-type {\n",
       "        vertical-align: middle;\n",
       "    }\n",
       "\n",
       "    .dataframe tbody tr th {\n",
       "        vertical-align: top;\n",
       "    }\n",
       "\n",
       "    .dataframe thead th {\n",
       "        text-align: right;\n",
       "    }\n",
       "</style>\n",
       "<table border=\"1\" class=\"dataframe\">\n",
       "  <thead>\n",
       "    <tr style=\"text-align: right;\">\n",
       "      <th></th>\n",
       "      <th>prediction_label</th>\n",
       "      <th>prediction_score</th>\n",
       "      <th>Target_Class</th>\n",
       "      <th>price_contribution</th>\n",
       "      <th>news_contribution</th>\n",
       "      <th>social_media_contribution</th>\n",
       "      <th>prediction_logit</th>\n",
       "    </tr>\n",
       "  </thead>\n",
       "  <tbody>\n",
       "    <tr>\n",
       "      <th>0</th>\n",
       "      <td>0</td>\n",
       "      <td>0.9993</td>\n",
       "      <td>0</td>\n",
       "      <td>0.810077</td>\n",
       "      <td>-0.038413</td>\n",
       "      <td>0.004704</td>\n",
       "      <td>0.0007</td>\n",
       "    </tr>\n",
       "    <tr>\n",
       "      <th>1</th>\n",
       "      <td>0</td>\n",
       "      <td>0.9998</td>\n",
       "      <td>0</td>\n",
       "      <td>0.846084</td>\n",
       "      <td>-0.008305</td>\n",
       "      <td>-0.061410</td>\n",
       "      <td>0.0002</td>\n",
       "    </tr>\n",
       "    <tr>\n",
       "      <th>2</th>\n",
       "      <td>0</td>\n",
       "      <td>0.9994</td>\n",
       "      <td>0</td>\n",
       "      <td>0.851669</td>\n",
       "      <td>0.031647</td>\n",
       "      <td>-0.106948</td>\n",
       "      <td>0.0006</td>\n",
       "    </tr>\n",
       "    <tr>\n",
       "      <th>3</th>\n",
       "      <td>0</td>\n",
       "      <td>0.9981</td>\n",
       "      <td>0</td>\n",
       "      <td>0.818824</td>\n",
       "      <td>0.000000</td>\n",
       "      <td>-0.042455</td>\n",
       "      <td>0.0019</td>\n",
       "    </tr>\n",
       "    <tr>\n",
       "      <th>4</th>\n",
       "      <td>0</td>\n",
       "      <td>0.9766</td>\n",
       "      <td>0</td>\n",
       "      <td>0.788774</td>\n",
       "      <td>0.001329</td>\n",
       "      <td>-0.013735</td>\n",
       "      <td>0.0234</td>\n",
       "    </tr>\n",
       "    <tr>\n",
       "      <th>...</th>\n",
       "      <td>...</td>\n",
       "      <td>...</td>\n",
       "      <td>...</td>\n",
       "      <td>...</td>\n",
       "      <td>...</td>\n",
       "      <td>...</td>\n",
       "      <td>...</td>\n",
       "    </tr>\n",
       "    <tr>\n",
       "      <th>2923</th>\n",
       "      <td>0</td>\n",
       "      <td>0.9814</td>\n",
       "      <td>0</td>\n",
       "      <td>0.783881</td>\n",
       "      <td>0.004019</td>\n",
       "      <td>-0.011532</td>\n",
       "      <td>0.0186</td>\n",
       "    </tr>\n",
       "    <tr>\n",
       "      <th>2924</th>\n",
       "      <td>0</td>\n",
       "      <td>0.7417</td>\n",
       "      <td>0</td>\n",
       "      <td>0.896776</td>\n",
       "      <td>-0.036318</td>\n",
       "      <td>-0.084090</td>\n",
       "      <td>0.2583</td>\n",
       "    </tr>\n",
       "    <tr>\n",
       "      <th>2925</th>\n",
       "      <td>1</td>\n",
       "      <td>0.8094</td>\n",
       "      <td>0</td>\n",
       "      <td>0.782045</td>\n",
       "      <td>0.000000</td>\n",
       "      <td>-0.005677</td>\n",
       "      <td>0.8094</td>\n",
       "    </tr>\n",
       "    <tr>\n",
       "      <th>2926</th>\n",
       "      <td>1</td>\n",
       "      <td>1.0000</td>\n",
       "      <td>0</td>\n",
       "      <td>0.808324</td>\n",
       "      <td>-0.002742</td>\n",
       "      <td>-0.029214</td>\n",
       "      <td>1.0000</td>\n",
       "    </tr>\n",
       "    <tr>\n",
       "      <th>2927</th>\n",
       "      <td>1</td>\n",
       "      <td>0.9999</td>\n",
       "      <td>0</td>\n",
       "      <td>0.882638</td>\n",
       "      <td>0.013601</td>\n",
       "      <td>-0.119870</td>\n",
       "      <td>0.9999</td>\n",
       "    </tr>\n",
       "  </tbody>\n",
       "</table>\n",
       "<p>2928 rows × 7 columns</p>\n",
       "</div>"
      ],
      "text/plain": [
       "      prediction_label  prediction_score  Target_Class  price_contribution  \\\n",
       "0                    0            0.9993             0            0.810077   \n",
       "1                    0            0.9998             0            0.846084   \n",
       "2                    0            0.9994             0            0.851669   \n",
       "3                    0            0.9981             0            0.818824   \n",
       "4                    0            0.9766             0            0.788774   \n",
       "...                ...               ...           ...                 ...   \n",
       "2923                 0            0.9814             0            0.783881   \n",
       "2924                 0            0.7417             0            0.896776   \n",
       "2925                 1            0.8094             0            0.782045   \n",
       "2926                 1            1.0000             0            0.808324   \n",
       "2927                 1            0.9999             0            0.882638   \n",
       "\n",
       "      news_contribution  social_media_contribution  prediction_logit  \n",
       "0             -0.038413                   0.004704            0.0007  \n",
       "1             -0.008305                  -0.061410            0.0002  \n",
       "2              0.031647                  -0.106948            0.0006  \n",
       "3              0.000000                  -0.042455            0.0019  \n",
       "4              0.001329                  -0.013735            0.0234  \n",
       "...                 ...                        ...               ...  \n",
       "2923           0.004019                  -0.011532            0.0186  \n",
       "2924          -0.036318                  -0.084090            0.2583  \n",
       "2925           0.000000                  -0.005677            0.8094  \n",
       "2926          -0.002742                  -0.029214            1.0000  \n",
       "2927           0.013601                  -0.119870            0.9999  \n",
       "\n",
       "[2928 rows x 7 columns]"
      ]
     },
     "execution_count": 63,
     "metadata": {},
     "output_type": "execute_result"
    }
   ],
   "source": [
    "val_df[['prediction_label', 'prediction_score', 'Target_Class', 'price_contribution', 'news_contribution', 'social_media_contribution',\n",
    "       'prediction_logit']]"
   ]
  },
  {
   "cell_type": "code",
   "execution_count": 64,
   "metadata": {},
   "outputs": [
    {
     "data": {
      "text/html": [
       "<div>\n",
       "<style scoped>\n",
       "    .dataframe tbody tr th:only-of-type {\n",
       "        vertical-align: middle;\n",
       "    }\n",
       "\n",
       "    .dataframe tbody tr th {\n",
       "        vertical-align: top;\n",
       "    }\n",
       "\n",
       "    .dataframe thead th {\n",
       "        text-align: right;\n",
       "    }\n",
       "</style>\n",
       "<table border=\"1\" class=\"dataframe\">\n",
       "  <thead>\n",
       "    <tr style=\"text-align: right;\">\n",
       "      <th></th>\n",
       "      <th>Forward MDD</th>\n",
       "      <th>PSY_1d_95</th>\n",
       "      <th>PSY_3d_95</th>\n",
       "      <th>KAMA</th>\n",
       "      <th>VWAP</th>\n",
       "      <th>close</th>\n",
       "      <th>Avg True Range</th>\n",
       "      <th>Negative Volume Index</th>\n",
       "      <th>var_90</th>\n",
       "      <th>Ulcer Index</th>\n",
       "      <th>...</th>\n",
       "      <th>entity_max_fmdd</th>\n",
       "      <th>rolling_count_importance</th>\n",
       "      <th>coindesk_counts</th>\n",
       "      <th>prediction_label</th>\n",
       "      <th>prediction_score</th>\n",
       "      <th>Target_Class</th>\n",
       "      <th>price_contribution</th>\n",
       "      <th>news_contribution</th>\n",
       "      <th>social_media_contribution</th>\n",
       "      <th>prediction_logit</th>\n",
       "    </tr>\n",
       "  </thead>\n",
       "  <tbody>\n",
       "    <tr>\n",
       "      <th>2018</th>\n",
       "      <td>0.033541</td>\n",
       "      <td>0</td>\n",
       "      <td>0</td>\n",
       "      <td>20173.641641</td>\n",
       "      <td>42579.125775</td>\n",
       "      <td>20022.65</td>\n",
       "      <td>128.887423</td>\n",
       "      <td>4896.003032</td>\n",
       "      <td>0.005686</td>\n",
       "      <td>0.761421</td>\n",
       "      <td>...</td>\n",
       "      <td>0.067280</td>\n",
       "      <td>6</td>\n",
       "      <td>0</td>\n",
       "      <td>0</td>\n",
       "      <td>0.9754</td>\n",
       "      <td>1</td>\n",
       "      <td>0.726289</td>\n",
       "      <td>0.021654</td>\n",
       "      <td>0.028426</td>\n",
       "      <td>97.5</td>\n",
       "    </tr>\n",
       "    <tr>\n",
       "      <th>2019</th>\n",
       "      <td>0.033541</td>\n",
       "      <td>0</td>\n",
       "      <td>0</td>\n",
       "      <td>20157.489831</td>\n",
       "      <td>42578.353899</td>\n",
       "      <td>20018.44</td>\n",
       "      <td>127.808321</td>\n",
       "      <td>4894.973589</td>\n",
       "      <td>0.005686</td>\n",
       "      <td>0.848874</td>\n",
       "      <td>...</td>\n",
       "      <td>0.000000</td>\n",
       "      <td>0</td>\n",
       "      <td>0</td>\n",
       "      <td>0</td>\n",
       "      <td>0.9949</td>\n",
       "      <td>1</td>\n",
       "      <td>0.727509</td>\n",
       "      <td>0.031967</td>\n",
       "      <td>0.016892</td>\n",
       "      <td>99.5</td>\n",
       "    </tr>\n",
       "    <tr>\n",
       "      <th>2020</th>\n",
       "      <td>0.033541</td>\n",
       "      <td>0</td>\n",
       "      <td>0</td>\n",
       "      <td>20145.955028</td>\n",
       "      <td>42577.931394</td>\n",
       "      <td>20077.56</td>\n",
       "      <td>125.028441</td>\n",
       "      <td>4909.429803</td>\n",
       "      <td>0.005686</td>\n",
       "      <td>0.903679</td>\n",
       "      <td>...</td>\n",
       "      <td>0.033541</td>\n",
       "      <td>0</td>\n",
       "      <td>0</td>\n",
       "      <td>0</td>\n",
       "      <td>0.9946</td>\n",
       "      <td>1</td>\n",
       "      <td>0.772833</td>\n",
       "      <td>0.031298</td>\n",
       "      <td>-0.027763</td>\n",
       "      <td>99.5</td>\n",
       "    </tr>\n",
       "    <tr>\n",
       "      <th>2021</th>\n",
       "      <td>0.038375</td>\n",
       "      <td>0</td>\n",
       "      <td>0</td>\n",
       "      <td>20138.108934</td>\n",
       "      <td>42577.450738</td>\n",
       "      <td>20083.78</td>\n",
       "      <td>119.901410</td>\n",
       "      <td>4909.429803</td>\n",
       "      <td>0.005685</td>\n",
       "      <td>0.952721</td>\n",
       "      <td>...</td>\n",
       "      <td>0.000000</td>\n",
       "      <td>0</td>\n",
       "      <td>0</td>\n",
       "      <td>0</td>\n",
       "      <td>0.9898</td>\n",
       "      <td>1</td>\n",
       "      <td>0.775201</td>\n",
       "      <td>0.007753</td>\n",
       "      <td>-0.006585</td>\n",
       "      <td>99.0</td>\n",
       "    </tr>\n",
       "    <tr>\n",
       "      <th>2022</th>\n",
       "      <td>0.042811</td>\n",
       "      <td>0</td>\n",
       "      <td>0</td>\n",
       "      <td>20135.463893</td>\n",
       "      <td>42576.936628</td>\n",
       "      <td>20094.32</td>\n",
       "      <td>114.862738</td>\n",
       "      <td>4909.429803</td>\n",
       "      <td>0.005685</td>\n",
       "      <td>0.995260</td>\n",
       "      <td>...</td>\n",
       "      <td>0.000000</td>\n",
       "      <td>0</td>\n",
       "      <td>0</td>\n",
       "      <td>0</td>\n",
       "      <td>0.9970</td>\n",
       "      <td>1</td>\n",
       "      <td>0.751324</td>\n",
       "      <td>-0.015833</td>\n",
       "      <td>0.040877</td>\n",
       "      <td>99.7</td>\n",
       "    </tr>\n",
       "    <tr>\n",
       "      <th>2023</th>\n",
       "      <td>0.055494</td>\n",
       "      <td>0</td>\n",
       "      <td>0</td>\n",
       "      <td>20130.423707</td>\n",
       "      <td>42576.556555</td>\n",
       "      <td>20077.01</td>\n",
       "      <td>110.161114</td>\n",
       "      <td>4905.200636</td>\n",
       "      <td>0.005685</td>\n",
       "      <td>1.041013</td>\n",
       "      <td>...</td>\n",
       "      <td>0.000000</td>\n",
       "      <td>0</td>\n",
       "      <td>0</td>\n",
       "      <td>0</td>\n",
       "      <td>0.9683</td>\n",
       "      <td>1</td>\n",
       "      <td>0.822322</td>\n",
       "      <td>-0.029933</td>\n",
       "      <td>-0.016021</td>\n",
       "      <td>96.8</td>\n",
       "    </tr>\n",
       "    <tr>\n",
       "      <th>2024</th>\n",
       "      <td>0.054768</td>\n",
       "      <td>0</td>\n",
       "      <td>0</td>\n",
       "      <td>20129.301645</td>\n",
       "      <td>42575.955345</td>\n",
       "      <td>20061.60</td>\n",
       "      <td>105.377463</td>\n",
       "      <td>4905.200636</td>\n",
       "      <td>0.005685</td>\n",
       "      <td>1.085568</td>\n",
       "      <td>...</td>\n",
       "      <td>0.000000</td>\n",
       "      <td>0</td>\n",
       "      <td>0</td>\n",
       "      <td>0</td>\n",
       "      <td>0.9890</td>\n",
       "      <td>1</td>\n",
       "      <td>0.787702</td>\n",
       "      <td>0.028445</td>\n",
       "      <td>-0.039779</td>\n",
       "      <td>98.9</td>\n",
       "    </tr>\n",
       "    <tr>\n",
       "      <th>2025</th>\n",
       "      <td>0.054329</td>\n",
       "      <td>0</td>\n",
       "      <td>0</td>\n",
       "      <td>20124.256283</td>\n",
       "      <td>42575.308740</td>\n",
       "      <td>20052.28</td>\n",
       "      <td>103.237644</td>\n",
       "      <td>4905.200636</td>\n",
       "      <td>0.005685</td>\n",
       "      <td>1.106087</td>\n",
       "      <td>...</td>\n",
       "      <td>0.000000</td>\n",
       "      <td>0</td>\n",
       "      <td>0</td>\n",
       "      <td>1</td>\n",
       "      <td>0.5460</td>\n",
       "      <td>1</td>\n",
       "      <td>0.814809</td>\n",
       "      <td>-0.049111</td>\n",
       "      <td>0.010670</td>\n",
       "      <td>54.6</td>\n",
       "    </tr>\n",
       "    <tr>\n",
       "      <th>2026</th>\n",
       "      <td>0.053340</td>\n",
       "      <td>0</td>\n",
       "      <td>0</td>\n",
       "      <td>20120.753941</td>\n",
       "      <td>42574.516831</td>\n",
       "      <td>20031.33</td>\n",
       "      <td>103.395669</td>\n",
       "      <td>4905.200636</td>\n",
       "      <td>0.005685</td>\n",
       "      <td>1.122397</td>\n",
       "      <td>...</td>\n",
       "      <td>0.000000</td>\n",
       "      <td>0</td>\n",
       "      <td>0</td>\n",
       "      <td>0</td>\n",
       "      <td>0.6274</td>\n",
       "      <td>1</td>\n",
       "      <td>0.777215</td>\n",
       "      <td>-0.024335</td>\n",
       "      <td>0.023488</td>\n",
       "      <td>62.7</td>\n",
       "    </tr>\n",
       "    <tr>\n",
       "      <th>2027</th>\n",
       "      <td>0.051940</td>\n",
       "      <td>0</td>\n",
       "      <td>0</td>\n",
       "      <td>20116.880662</td>\n",
       "      <td>42573.873768</td>\n",
       "      <td>20001.75</td>\n",
       "      <td>102.058121</td>\n",
       "      <td>4897.957191</td>\n",
       "      <td>0.005684</td>\n",
       "      <td>1.126315</td>\n",
       "      <td>...</td>\n",
       "      <td>0.051940</td>\n",
       "      <td>0</td>\n",
       "      <td>0</td>\n",
       "      <td>1</td>\n",
       "      <td>0.8818</td>\n",
       "      <td>1</td>\n",
       "      <td>0.843476</td>\n",
       "      <td>-0.044636</td>\n",
       "      <td>-0.022472</td>\n",
       "      <td>88.2</td>\n",
       "    </tr>\n",
       "    <tr>\n",
       "      <th>2028</th>\n",
       "      <td>0.042280</td>\n",
       "      <td>0</td>\n",
       "      <td>0</td>\n",
       "      <td>20060.289680</td>\n",
       "      <td>42572.634864</td>\n",
       "      <td>19800.00</td>\n",
       "      <td>111.087541</td>\n",
       "      <td>4897.957191</td>\n",
       "      <td>0.005684</td>\n",
       "      <td>1.168181</td>\n",
       "      <td>...</td>\n",
       "      <td>0.081301</td>\n",
       "      <td>2</td>\n",
       "      <td>0</td>\n",
       "      <td>1</td>\n",
       "      <td>0.8109</td>\n",
       "      <td>1</td>\n",
       "      <td>0.843309</td>\n",
       "      <td>0.000000</td>\n",
       "      <td>-0.066941</td>\n",
       "      <td>81.1</td>\n",
       "    </tr>\n",
       "    <tr>\n",
       "      <th>2029</th>\n",
       "      <td>0.024338</td>\n",
       "      <td>0</td>\n",
       "      <td>0</td>\n",
       "      <td>19870.347577</td>\n",
       "      <td>42567.957253</td>\n",
       "      <td>19420.34</td>\n",
       "      <td>134.939146</td>\n",
       "      <td>4897.957191</td>\n",
       "      <td>0.005686</td>\n",
       "      <td>1.451086</td>\n",
       "      <td>...</td>\n",
       "      <td>0.000000</td>\n",
       "      <td>0</td>\n",
       "      <td>0</td>\n",
       "      <td>1</td>\n",
       "      <td>0.9999</td>\n",
       "      <td>0</td>\n",
       "      <td>0.742068</td>\n",
       "      <td>0.000000</td>\n",
       "      <td>0.034300</td>\n",
       "      <td>100.0</td>\n",
       "    </tr>\n",
       "    <tr>\n",
       "      <th>2030</th>\n",
       "      <td>0.024338</td>\n",
       "      <td>0</td>\n",
       "      <td>0</td>\n",
       "      <td>19704.789116</td>\n",
       "      <td>42566.062266</td>\n",
       "      <td>19433.44</td>\n",
       "      <td>136.571349</td>\n",
       "      <td>4901.261111</td>\n",
       "      <td>0.005687</td>\n",
       "      <td>1.666867</td>\n",
       "      <td>...</td>\n",
       "      <td>0.000000</td>\n",
       "      <td>0</td>\n",
       "      <td>109</td>\n",
       "      <td>0</td>\n",
       "      <td>0.7660</td>\n",
       "      <td>0</td>\n",
       "      <td>0.869466</td>\n",
       "      <td>-0.033823</td>\n",
       "      <td>-0.059275</td>\n",
       "      <td>76.6</td>\n",
       "    </tr>\n",
       "    <tr>\n",
       "      <th>2031</th>\n",
       "      <td>0.024338</td>\n",
       "      <td>0</td>\n",
       "      <td>0</td>\n",
       "      <td>19600.837617</td>\n",
       "      <td>42565.046661</td>\n",
       "      <td>19435.90</td>\n",
       "      <td>131.794824</td>\n",
       "      <td>4901.881541</td>\n",
       "      <td>0.005687</td>\n",
       "      <td>1.847765</td>\n",
       "      <td>...</td>\n",
       "      <td>0.000000</td>\n",
       "      <td>0</td>\n",
       "      <td>0</td>\n",
       "      <td>0</td>\n",
       "      <td>0.9737</td>\n",
       "      <td>0</td>\n",
       "      <td>0.731560</td>\n",
       "      <td>0.023943</td>\n",
       "      <td>0.020866</td>\n",
       "      <td>97.4</td>\n",
       "    </tr>\n",
       "    <tr>\n",
       "      <th>2032</th>\n",
       "      <td>0.023543</td>\n",
       "      <td>0</td>\n",
       "      <td>0</td>\n",
       "      <td>19485.942721</td>\n",
       "      <td>42563.293105</td>\n",
       "      <td>19323.21</td>\n",
       "      <td>136.718766</td>\n",
       "      <td>4901.881541</td>\n",
       "      <td>0.005687</td>\n",
       "      <td>2.078473</td>\n",
       "      <td>...</td>\n",
       "      <td>0.067280</td>\n",
       "      <td>11</td>\n",
       "      <td>0</td>\n",
       "      <td>1</td>\n",
       "      <td>0.8852</td>\n",
       "      <td>0</td>\n",
       "      <td>0.733249</td>\n",
       "      <td>0.038496</td>\n",
       "      <td>0.004623</td>\n",
       "      <td>88.5</td>\n",
       "    </tr>\n",
       "    <tr>\n",
       "      <th>2033</th>\n",
       "      <td>0.019017</td>\n",
       "      <td>1</td>\n",
       "      <td>0</td>\n",
       "      <td>19381.079126</td>\n",
       "      <td>42561.568013</td>\n",
       "      <td>19234.06</td>\n",
       "      <td>141.796711</td>\n",
       "      <td>4879.266109</td>\n",
       "      <td>0.005687</td>\n",
       "      <td>2.340700</td>\n",
       "      <td>...</td>\n",
       "      <td>0.000000</td>\n",
       "      <td>0</td>\n",
       "      <td>0</td>\n",
       "      <td>1</td>\n",
       "      <td>0.9946</td>\n",
       "      <td>0</td>\n",
       "      <td>0.887591</td>\n",
       "      <td>-0.034789</td>\n",
       "      <td>-0.076434</td>\n",
       "      <td>99.5</td>\n",
       "    </tr>\n",
       "    <tr>\n",
       "      <th>2034</th>\n",
       "      <td>0.018610</td>\n",
       "      <td>1</td>\n",
       "      <td>1</td>\n",
       "      <td>19204.337236</td>\n",
       "      <td>42557.910537</td>\n",
       "      <td>18962.86</td>\n",
       "      <td>153.525517</td>\n",
       "      <td>4879.266109</td>\n",
       "      <td>0.005687</td>\n",
       "      <td>2.765410</td>\n",
       "      <td>...</td>\n",
       "      <td>0.033541</td>\n",
       "      <td>0</td>\n",
       "      <td>0</td>\n",
       "      <td>1</td>\n",
       "      <td>1.0000</td>\n",
       "      <td>0</td>\n",
       "      <td>0.862484</td>\n",
       "      <td>-0.017385</td>\n",
       "      <td>-0.068731</td>\n",
       "      <td>100.0</td>\n",
       "    </tr>\n",
       "    <tr>\n",
       "      <th>2035</th>\n",
       "      <td>0.018610</td>\n",
       "      <td>0</td>\n",
       "      <td>0</td>\n",
       "      <td>19192.931747</td>\n",
       "      <td>42555.445753</td>\n",
       "      <td>19154.16</td>\n",
       "      <td>161.874409</td>\n",
       "      <td>4928.488832</td>\n",
       "      <td>0.005688</td>\n",
       "      <td>3.019944</td>\n",
       "      <td>...</td>\n",
       "      <td>0.058629</td>\n",
       "      <td>3</td>\n",
       "      <td>0</td>\n",
       "      <td>1</td>\n",
       "      <td>1.0000</td>\n",
       "      <td>0</td>\n",
       "      <td>0.866665</td>\n",
       "      <td>-0.016284</td>\n",
       "      <td>-0.074013</td>\n",
       "      <td>100.0</td>\n",
       "    </tr>\n",
       "    <tr>\n",
       "      <th>2036</th>\n",
       "      <td>0.018610</td>\n",
       "      <td>1</td>\n",
       "      <td>1</td>\n",
       "      <td>19167.898934</td>\n",
       "      <td>42554.202438</td>\n",
       "      <td>19085.80</td>\n",
       "      <td>157.213380</td>\n",
       "      <td>4910.899364</td>\n",
       "      <td>0.005688</td>\n",
       "      <td>3.283020</td>\n",
       "      <td>...</td>\n",
       "      <td>0.000000</td>\n",
       "      <td>0</td>\n",
       "      <td>0</td>\n",
       "      <td>1</td>\n",
       "      <td>1.0000</td>\n",
       "      <td>0</td>\n",
       "      <td>0.659476</td>\n",
       "      <td>0.049339</td>\n",
       "      <td>0.067553</td>\n",
       "      <td>100.0</td>\n",
       "    </tr>\n",
       "    <tr>\n",
       "      <th>2037</th>\n",
       "      <td>0.018610</td>\n",
       "      <td>0</td>\n",
       "      <td>0</td>\n",
       "      <td>19155.242949</td>\n",
       "      <td>42552.541888</td>\n",
       "      <td>19108.64</td>\n",
       "      <td>155.413853</td>\n",
       "      <td>4910.899364</td>\n",
       "      <td>0.005688</td>\n",
       "      <td>3.506201</td>\n",
       "      <td>...</td>\n",
       "      <td>0.029766</td>\n",
       "      <td>0</td>\n",
       "      <td>6</td>\n",
       "      <td>1</td>\n",
       "      <td>0.9861</td>\n",
       "      <td>0</td>\n",
       "      <td>0.761656</td>\n",
       "      <td>-0.006761</td>\n",
       "      <td>0.021473</td>\n",
       "      <td>98.6</td>\n",
       "    </tr>\n",
       "  </tbody>\n",
       "</table>\n",
       "<p>20 rows × 62 columns</p>\n",
       "</div>"
      ],
      "text/plain": [
       "      Forward MDD  PSY_1d_95  PSY_3d_95          KAMA          VWAP     close  \\\n",
       "2018     0.033541          0          0  20173.641641  42579.125775  20022.65   \n",
       "2019     0.033541          0          0  20157.489831  42578.353899  20018.44   \n",
       "2020     0.033541          0          0  20145.955028  42577.931394  20077.56   \n",
       "2021     0.038375          0          0  20138.108934  42577.450738  20083.78   \n",
       "2022     0.042811          0          0  20135.463893  42576.936628  20094.32   \n",
       "2023     0.055494          0          0  20130.423707  42576.556555  20077.01   \n",
       "2024     0.054768          0          0  20129.301645  42575.955345  20061.60   \n",
       "2025     0.054329          0          0  20124.256283  42575.308740  20052.28   \n",
       "2026     0.053340          0          0  20120.753941  42574.516831  20031.33   \n",
       "2027     0.051940          0          0  20116.880662  42573.873768  20001.75   \n",
       "2028     0.042280          0          0  20060.289680  42572.634864  19800.00   \n",
       "2029     0.024338          0          0  19870.347577  42567.957253  19420.34   \n",
       "2030     0.024338          0          0  19704.789116  42566.062266  19433.44   \n",
       "2031     0.024338          0          0  19600.837617  42565.046661  19435.90   \n",
       "2032     0.023543          0          0  19485.942721  42563.293105  19323.21   \n",
       "2033     0.019017          1          0  19381.079126  42561.568013  19234.06   \n",
       "2034     0.018610          1          1  19204.337236  42557.910537  18962.86   \n",
       "2035     0.018610          0          0  19192.931747  42555.445753  19154.16   \n",
       "2036     0.018610          1          1  19167.898934  42554.202438  19085.80   \n",
       "2037     0.018610          0          0  19155.242949  42552.541888  19108.64   \n",
       "\n",
       "      Avg True Range  Negative Volume Index    var_90  Ulcer Index  ...  \\\n",
       "2018      128.887423            4896.003032  0.005686     0.761421  ...   \n",
       "2019      127.808321            4894.973589  0.005686     0.848874  ...   \n",
       "2020      125.028441            4909.429803  0.005686     0.903679  ...   \n",
       "2021      119.901410            4909.429803  0.005685     0.952721  ...   \n",
       "2022      114.862738            4909.429803  0.005685     0.995260  ...   \n",
       "2023      110.161114            4905.200636  0.005685     1.041013  ...   \n",
       "2024      105.377463            4905.200636  0.005685     1.085568  ...   \n",
       "2025      103.237644            4905.200636  0.005685     1.106087  ...   \n",
       "2026      103.395669            4905.200636  0.005685     1.122397  ...   \n",
       "2027      102.058121            4897.957191  0.005684     1.126315  ...   \n",
       "2028      111.087541            4897.957191  0.005684     1.168181  ...   \n",
       "2029      134.939146            4897.957191  0.005686     1.451086  ...   \n",
       "2030      136.571349            4901.261111  0.005687     1.666867  ...   \n",
       "2031      131.794824            4901.881541  0.005687     1.847765  ...   \n",
       "2032      136.718766            4901.881541  0.005687     2.078473  ...   \n",
       "2033      141.796711            4879.266109  0.005687     2.340700  ...   \n",
       "2034      153.525517            4879.266109  0.005687     2.765410  ...   \n",
       "2035      161.874409            4928.488832  0.005688     3.019944  ...   \n",
       "2036      157.213380            4910.899364  0.005688     3.283020  ...   \n",
       "2037      155.413853            4910.899364  0.005688     3.506201  ...   \n",
       "\n",
       "      entity_max_fmdd  rolling_count_importance  coindesk_counts  \\\n",
       "2018         0.067280                         6                0   \n",
       "2019         0.000000                         0                0   \n",
       "2020         0.033541                         0                0   \n",
       "2021         0.000000                         0                0   \n",
       "2022         0.000000                         0                0   \n",
       "2023         0.000000                         0                0   \n",
       "2024         0.000000                         0                0   \n",
       "2025         0.000000                         0                0   \n",
       "2026         0.000000                         0                0   \n",
       "2027         0.051940                         0                0   \n",
       "2028         0.081301                         2                0   \n",
       "2029         0.000000                         0                0   \n",
       "2030         0.000000                         0              109   \n",
       "2031         0.000000                         0                0   \n",
       "2032         0.067280                        11                0   \n",
       "2033         0.000000                         0                0   \n",
       "2034         0.033541                         0                0   \n",
       "2035         0.058629                         3                0   \n",
       "2036         0.000000                         0                0   \n",
       "2037         0.029766                         0                6   \n",
       "\n",
       "      prediction_label  prediction_score  Target_Class  price_contribution  \\\n",
       "2018                 0            0.9754             1            0.726289   \n",
       "2019                 0            0.9949             1            0.727509   \n",
       "2020                 0            0.9946             1            0.772833   \n",
       "2021                 0            0.9898             1            0.775201   \n",
       "2022                 0            0.9970             1            0.751324   \n",
       "2023                 0            0.9683             1            0.822322   \n",
       "2024                 0            0.9890             1            0.787702   \n",
       "2025                 1            0.5460             1            0.814809   \n",
       "2026                 0            0.6274             1            0.777215   \n",
       "2027                 1            0.8818             1            0.843476   \n",
       "2028                 1            0.8109             1            0.843309   \n",
       "2029                 1            0.9999             0            0.742068   \n",
       "2030                 0            0.7660             0            0.869466   \n",
       "2031                 0            0.9737             0            0.731560   \n",
       "2032                 1            0.8852             0            0.733249   \n",
       "2033                 1            0.9946             0            0.887591   \n",
       "2034                 1            1.0000             0            0.862484   \n",
       "2035                 1            1.0000             0            0.866665   \n",
       "2036                 1            1.0000             0            0.659476   \n",
       "2037                 1            0.9861             0            0.761656   \n",
       "\n",
       "      news_contribution  social_media_contribution  prediction_logit  \n",
       "2018           0.021654                   0.028426              97.5  \n",
       "2019           0.031967                   0.016892              99.5  \n",
       "2020           0.031298                  -0.027763              99.5  \n",
       "2021           0.007753                  -0.006585              99.0  \n",
       "2022          -0.015833                   0.040877              99.7  \n",
       "2023          -0.029933                  -0.016021              96.8  \n",
       "2024           0.028445                  -0.039779              98.9  \n",
       "2025          -0.049111                   0.010670              54.6  \n",
       "2026          -0.024335                   0.023488              62.7  \n",
       "2027          -0.044636                  -0.022472              88.2  \n",
       "2028           0.000000                  -0.066941              81.1  \n",
       "2029           0.000000                   0.034300             100.0  \n",
       "2030          -0.033823                  -0.059275              76.6  \n",
       "2031           0.023943                   0.020866              97.4  \n",
       "2032           0.038496                   0.004623              88.5  \n",
       "2033          -0.034789                  -0.076434              99.5  \n",
       "2034          -0.017385                  -0.068731             100.0  \n",
       "2035          -0.016284                  -0.074013             100.0  \n",
       "2036           0.049339                   0.067553             100.0  \n",
       "2037          -0.006761                   0.021473              98.6  \n",
       "\n",
       "[20 rows x 62 columns]"
      ]
     },
     "execution_count": 64,
     "metadata": {},
     "output_type": "execute_result"
    }
   ],
   "source": [
    "end_time = datetime.datetime(2022, 6, 30, 11, 0, 0, 0)\n",
    "num_lookback_points = 20\n",
    "df = val_df.query(f'timestamp <= \"{str(end_time)}\"').iloc[-num_lookback_points:]\n",
    "df['prediction_logit'] = df['prediction_score'].apply(lambda x: round(x*100,1))\n",
    "df"
   ]
  },
  {
   "cell_type": "code",
   "execution_count": 65,
   "metadata": {},
   "outputs": [
    {
     "name": "stderr",
     "output_type": "stream",
     "text": [
      "/Users/ranadeep/miniforge3/envs/crypto/lib/python3.10/site-packages/plotly/graph_objs/_deprecations.py:378: DeprecationWarning:\n",
      "\n",
      "plotly.graph_objs.Line is deprecated.\n",
      "Please replace it with one of the following more specific types\n",
      "  - plotly.graph_objs.scatter.Line\n",
      "  - plotly.graph_objs.layout.shape.Line\n",
      "  - etc.\n",
      "\n",
      "\n"
     ]
    },
    {
     "data": {
      "application/vnd.plotly.v1+json": {
       "config": {
        "plotlyServerURL": "https://plot.ly"
       },
       "data": [
        {
         "marker": {
          "color": "red"
         },
         "name": "Price Fall Risk Probability",
         "showlegend": true,
         "type": "scatter",
         "x": [
          "2022-06-29 11:00:00+00:00",
          "2022-06-29 11:30:00+00:00",
          "2022-06-29 12:00:00+00:00",
          "2022-06-29 12:30:00+00:00",
          "2022-06-29 13:00:00+00:00",
          "2022-06-29 13:30:00+00:00",
          "2022-06-29 14:00:00+00:00",
          "2022-06-29 14:30:00+00:00",
          "2022-06-29 15:00:00+00:00",
          "2022-06-29 15:30:00+00:00",
          "2022-06-29 16:00:00+00:00",
          "2022-06-29 16:30:00+00:00",
          "2022-06-29 17:00:00+00:00",
          "2022-06-29 17:30:00+00:00",
          "2022-06-29 18:00:00+00:00",
          "2022-06-29 18:30:00+00:00",
          "2022-06-29 19:00:00+00:00",
          "2022-06-29 19:30:00+00:00",
          "2022-06-29 20:00:00+00:00",
          "2022-06-29 20:30:00+00:00",
          "2022-06-29 21:00:00+00:00",
          "2022-06-29 21:30:00+00:00",
          "2022-06-29 22:00:00+00:00",
          "2022-06-29 22:30:00+00:00",
          "2022-06-29 23:00:00+00:00",
          "2022-06-29 23:30:00+00:00",
          "2022-06-30 00:00:00+00:00",
          "2022-06-30 00:30:00+00:00",
          "2022-06-30 01:00:00+00:00",
          "2022-06-30 01:30:00+00:00",
          "2022-06-30 02:00:00+00:00",
          "2022-06-30 02:30:00+00:00",
          "2022-06-30 03:00:00+00:00",
          "2022-06-30 03:30:00+00:00",
          "2022-06-30 04:00:00+00:00",
          "2022-06-30 04:30:00+00:00",
          "2022-06-30 05:00:00+00:00",
          "2022-06-30 05:30:00+00:00",
          "2022-06-30 06:00:00+00:00",
          "2022-06-30 06:30:00+00:00",
          "2022-06-30 07:00:00+00:00",
          "2022-06-30 07:30:00+00:00",
          "2022-06-30 08:00:00+00:00",
          "2022-06-30 08:30:00+00:00",
          "2022-06-30 09:00:00+00:00",
          "2022-06-30 09:30:00+00:00",
          "2022-06-30 10:00:00+00:00",
          "2022-06-30 10:30:00+00:00"
         ],
         "xaxis": "x",
         "y": [
          0.5,
          2.5,
          43.2,
          63.7,
          4.3,
          4.2,
          0.1,
          0.2,
          12,
          11.5,
          0.2,
          0.3,
          1.6,
          0.1,
          0.1,
          98.8,
          0,
          0.1,
          3.3,
          0.1,
          0,
          0.1,
          1.1,
          0.1,
          0.4,
          1.2,
          0,
          0.2,
          2.5,
          0.5,
          0.5,
          1,
          0.3,
          3.2,
          1.1,
          54.6,
          37.3,
          88.2,
          81.1,
          100,
          23.4,
          2.6,
          88.5,
          99.5,
          100,
          100,
          100,
          98.6
         ],
         "yaxis": "y"
        },
        {
         "marker": {
          "color": "blue",
          "opacity": 0.4
         },
         "name": "Price Contribution",
         "type": "bar",
         "x": [
          "2022-06-29 11:00:00+00:00",
          "2022-06-29 11:30:00+00:00",
          "2022-06-29 12:00:00+00:00",
          "2022-06-29 12:30:00+00:00",
          "2022-06-29 13:00:00+00:00",
          "2022-06-29 13:30:00+00:00",
          "2022-06-29 14:00:00+00:00",
          "2022-06-29 14:30:00+00:00",
          "2022-06-29 15:00:00+00:00",
          "2022-06-29 15:30:00+00:00",
          "2022-06-29 16:00:00+00:00",
          "2022-06-29 16:30:00+00:00",
          "2022-06-29 17:00:00+00:00",
          "2022-06-29 17:30:00+00:00",
          "2022-06-29 18:00:00+00:00",
          "2022-06-29 18:30:00+00:00",
          "2022-06-29 19:00:00+00:00",
          "2022-06-29 19:30:00+00:00",
          "2022-06-29 20:00:00+00:00",
          "2022-06-29 20:30:00+00:00",
          "2022-06-29 21:00:00+00:00",
          "2022-06-29 21:30:00+00:00",
          "2022-06-29 22:00:00+00:00",
          "2022-06-29 22:30:00+00:00",
          "2022-06-29 23:00:00+00:00",
          "2022-06-29 23:30:00+00:00",
          "2022-06-30 00:00:00+00:00",
          "2022-06-30 00:30:00+00:00",
          "2022-06-30 01:00:00+00:00",
          "2022-06-30 01:30:00+00:00",
          "2022-06-30 02:00:00+00:00",
          "2022-06-30 02:30:00+00:00",
          "2022-06-30 03:00:00+00:00",
          "2022-06-30 03:30:00+00:00",
          "2022-06-30 04:00:00+00:00",
          "2022-06-30 04:30:00+00:00",
          "2022-06-30 05:00:00+00:00",
          "2022-06-30 05:30:00+00:00",
          "2022-06-30 06:00:00+00:00",
          "2022-06-30 06:30:00+00:00",
          "2022-06-30 07:00:00+00:00",
          "2022-06-30 07:30:00+00:00",
          "2022-06-30 08:00:00+00:00",
          "2022-06-30 08:30:00+00:00",
          "2022-06-30 09:00:00+00:00",
          "2022-06-30 09:30:00+00:00",
          "2022-06-30 10:00:00+00:00",
          "2022-06-30 10:30:00+00:00"
         ],
         "xaxis": "x",
         "y": [
          0.7404985190455828,
          0.7274278164258987,
          0.7885069847295312,
          0.7708326956850643,
          0.8633876479297135,
          0.7888847041575268,
          0.837699332622938,
          0.7446454137297216,
          0.7693613616983506,
          0.7555474169377827,
          0.8237183948629401,
          0.7171825357560131,
          0.8198184277481222,
          0.8256955198478686,
          0.9360563559301204,
          0.6403947514689237,
          0.7989797744937157,
          0.8348533881224238,
          0.7762421507187377,
          0.8476474582902079,
          0.7079696127540124,
          0.8279266702282994,
          0.8226750098800731,
          0.7737142003216213,
          0.8458953036514925,
          0.8423744225707582,
          0.8396565335781409,
          0.7620728119183606,
          0.7262885129750867,
          0.727509298427755,
          0.7728332531543481,
          0.7752005364091101,
          0.7513243581936438,
          0.8223216995246427,
          0.7877023146703683,
          0.8148086120795709,
          0.7772152157193348,
          0.8434761395507431,
          0.8433092506102953,
          0.7420683287639481,
          0.8694662858960573,
          0.7315595685479009,
          0.7332494146414978,
          0.8875911662129983,
          0.8624839356146472,
          0.8666645854573295,
          0.6594755873100924,
          0.7616555128284599
         ],
         "yaxis": "y2"
        },
        {
         "marker": {
          "color": "green",
          "opacity": 0.4
         },
         "name": "News Contribution",
         "type": "bar",
         "x": [
          "2022-06-29 11:00:00+00:00",
          "2022-06-29 11:30:00+00:00",
          "2022-06-29 12:00:00+00:00",
          "2022-06-29 12:30:00+00:00",
          "2022-06-29 13:00:00+00:00",
          "2022-06-29 13:30:00+00:00",
          "2022-06-29 14:00:00+00:00",
          "2022-06-29 14:30:00+00:00",
          "2022-06-29 15:00:00+00:00",
          "2022-06-29 15:30:00+00:00",
          "2022-06-29 16:00:00+00:00",
          "2022-06-29 16:30:00+00:00",
          "2022-06-29 17:00:00+00:00",
          "2022-06-29 17:30:00+00:00",
          "2022-06-29 18:00:00+00:00",
          "2022-06-29 18:30:00+00:00",
          "2022-06-29 19:00:00+00:00",
          "2022-06-29 19:30:00+00:00",
          "2022-06-29 20:00:00+00:00",
          "2022-06-29 20:30:00+00:00",
          "2022-06-29 21:00:00+00:00",
          "2022-06-29 21:30:00+00:00",
          "2022-06-29 22:00:00+00:00",
          "2022-06-29 22:30:00+00:00",
          "2022-06-29 23:00:00+00:00",
          "2022-06-29 23:30:00+00:00",
          "2022-06-30 00:00:00+00:00",
          "2022-06-30 00:30:00+00:00",
          "2022-06-30 01:00:00+00:00",
          "2022-06-30 01:30:00+00:00",
          "2022-06-30 02:00:00+00:00",
          "2022-06-30 02:30:00+00:00",
          "2022-06-30 03:00:00+00:00",
          "2022-06-30 03:30:00+00:00",
          "2022-06-30 04:00:00+00:00",
          "2022-06-30 04:30:00+00:00",
          "2022-06-30 05:00:00+00:00",
          "2022-06-30 05:30:00+00:00",
          "2022-06-30 06:00:00+00:00",
          "2022-06-30 06:30:00+00:00",
          "2022-06-30 07:00:00+00:00",
          "2022-06-30 07:30:00+00:00",
          "2022-06-30 08:00:00+00:00",
          "2022-06-30 08:30:00+00:00",
          "2022-06-30 09:00:00+00:00",
          "2022-06-30 09:30:00+00:00",
          "2022-06-30 10:00:00+00:00",
          "2022-06-30 10:30:00+00:00"
         ],
         "xaxis": "x",
         "y": [
          0.0296463130040406,
          0.0428612088845903,
          -0.0125228914310719,
          0.0145995436702969,
          0.0403492935785773,
          0.02009599666547,
          0,
          0.0072808656236813,
          -0.040240585922317,
          0.017089014895027,
          -0.0412348334001309,
          0.0100901037871092,
          -0.00710151826472,
          -0.0229155837409991,
          -0.0069628176774268,
          0.0859702502750554,
          0.0078202517768026,
          0.046948529089194,
          0.0279842052260478,
          -0.0283122029693968,
          -0.0144942635863715,
          -0.053474158105626,
          0.011213483733565,
          0,
          -0.0140551989865409,
          -0.0438718726357959,
          -0.0713565382158856,
          0,
          0.0216539143362348,
          0.031967352374111,
          0.0312979992448486,
          0.0077527913785699,
          -0.0158327827262259,
          -0.0299327208615673,
          0.0284445551339176,
          -0.0491109558844901,
          -0.0243354408211382,
          -0.0446355098392083,
          0,
          0,
          -0.0338230911912348,
          0.0239430215332295,
          0.0384962115909834,
          -0.0347885640768528,
          -0.0173851355118697,
          -0.0162837087600954,
          0.0493392173510437,
          -0.0067608180322216
         ],
         "yaxis": "y2"
        },
        {
         "marker": {
          "color": "purple",
          "opacity": 0.4
         },
         "name": "Social Media Contribution",
         "type": "bar",
         "x": [
          "2022-06-29 11:00:00+00:00",
          "2022-06-29 11:30:00+00:00",
          "2022-06-29 12:00:00+00:00",
          "2022-06-29 12:30:00+00:00",
          "2022-06-29 13:00:00+00:00",
          "2022-06-29 13:30:00+00:00",
          "2022-06-29 14:00:00+00:00",
          "2022-06-29 14:30:00+00:00",
          "2022-06-29 15:00:00+00:00",
          "2022-06-29 15:30:00+00:00",
          "2022-06-29 16:00:00+00:00",
          "2022-06-29 16:30:00+00:00",
          "2022-06-29 17:00:00+00:00",
          "2022-06-29 17:30:00+00:00",
          "2022-06-29 18:00:00+00:00",
          "2022-06-29 18:30:00+00:00",
          "2022-06-29 19:00:00+00:00",
          "2022-06-29 19:30:00+00:00",
          "2022-06-29 20:00:00+00:00",
          "2022-06-29 20:30:00+00:00",
          "2022-06-29 21:00:00+00:00",
          "2022-06-29 21:30:00+00:00",
          "2022-06-29 22:00:00+00:00",
          "2022-06-29 22:30:00+00:00",
          "2022-06-29 23:00:00+00:00",
          "2022-06-29 23:30:00+00:00",
          "2022-06-30 00:00:00+00:00",
          "2022-06-30 00:30:00+00:00",
          "2022-06-30 01:00:00+00:00",
          "2022-06-30 01:30:00+00:00",
          "2022-06-30 02:00:00+00:00",
          "2022-06-30 02:30:00+00:00",
          "2022-06-30 03:00:00+00:00",
          "2022-06-30 03:30:00+00:00",
          "2022-06-30 04:00:00+00:00",
          "2022-06-30 04:30:00+00:00",
          "2022-06-30 05:00:00+00:00",
          "2022-06-30 05:30:00+00:00",
          "2022-06-30 06:00:00+00:00",
          "2022-06-30 06:30:00+00:00",
          "2022-06-30 07:00:00+00:00",
          "2022-06-30 07:30:00+00:00",
          "2022-06-30 08:00:00+00:00",
          "2022-06-30 08:30:00+00:00",
          "2022-06-30 09:00:00+00:00",
          "2022-06-30 09:30:00+00:00",
          "2022-06-30 10:00:00+00:00",
          "2022-06-30 10:30:00+00:00"
         ],
         "xaxis": "x",
         "y": [
          0.00622332209612,
          0.0060791288352542,
          0.0003840608472843,
          -0.0090640852096176,
          -0.1273687873625474,
          -0.0326125466772531,
          -0.0613311784771946,
          0.0244418747923403,
          0.0472473783697096,
          0.0037317223129338,
          -0.0061154073170656,
          0.0490955146026208,
          -0.0363487553376586,
          -0.0264117819611261,
          -0.15272538410695,
          0.0500031524017643,
          -0.0304318721247747,
          -0.1054337630658742,
          -0.0278582017990422,
          -0.0429671011750677,
          0.082892804978103,
          0.0019156420230702,
          -0.0575203394678948,
          0.0026539538241222,
          -0.0554719505192081,
          -0.0221343957892189,
          0.0080681587834881,
          0.0142953422273829,
          0.0284257268344216,
          0.0168915033438776,
          -0.0277630982534534,
          -0.0065851736419366,
          0.0408765786783255,
          -0.0160208245173322,
          -0.0397787156585425,
          0.0106704979506624,
          0.0234883792475468,
          -0.0224724755657911,
          -0.0669410964645517,
          0.0342998253817953,
          -0.0592750405590787,
          0.0208655640646132,
          0.0046225279132621,
          -0.0764344479904021,
          -0.0687306459570341,
          -0.0740127225514905,
          0.0675533494846073,
          0.0214734593495051
         ],
         "yaxis": "y2"
        }
       ],
       "layout": {
        "barmode": "relative",
        "height": 300,
        "legend": {
         "x": 0,
         "y": 1.2
        },
        "margin": {
         "b": 10,
         "l": 10,
         "r": 10,
         "t": 30
        },
        "template": {
         "data": {
          "bar": [
           {
            "error_x": {
             "color": "#2a3f5f"
            },
            "error_y": {
             "color": "#2a3f5f"
            },
            "marker": {
             "line": {
              "color": "#E5ECF6",
              "width": 0.5
             },
             "pattern": {
              "fillmode": "overlay",
              "size": 10,
              "solidity": 0.2
             }
            },
            "type": "bar"
           }
          ],
          "barpolar": [
           {
            "marker": {
             "line": {
              "color": "#E5ECF6",
              "width": 0.5
             },
             "pattern": {
              "fillmode": "overlay",
              "size": 10,
              "solidity": 0.2
             }
            },
            "type": "barpolar"
           }
          ],
          "carpet": [
           {
            "aaxis": {
             "endlinecolor": "#2a3f5f",
             "gridcolor": "white",
             "linecolor": "white",
             "minorgridcolor": "white",
             "startlinecolor": "#2a3f5f"
            },
            "baxis": {
             "endlinecolor": "#2a3f5f",
             "gridcolor": "white",
             "linecolor": "white",
             "minorgridcolor": "white",
             "startlinecolor": "#2a3f5f"
            },
            "type": "carpet"
           }
          ],
          "choropleth": [
           {
            "colorbar": {
             "outlinewidth": 0,
             "ticks": ""
            },
            "type": "choropleth"
           }
          ],
          "contour": [
           {
            "colorbar": {
             "outlinewidth": 0,
             "ticks": ""
            },
            "colorscale": [
             [
              0,
              "#0d0887"
             ],
             [
              0.1111111111111111,
              "#46039f"
             ],
             [
              0.2222222222222222,
              "#7201a8"
             ],
             [
              0.3333333333333333,
              "#9c179e"
             ],
             [
              0.4444444444444444,
              "#bd3786"
             ],
             [
              0.5555555555555556,
              "#d8576b"
             ],
             [
              0.6666666666666666,
              "#ed7953"
             ],
             [
              0.7777777777777778,
              "#fb9f3a"
             ],
             [
              0.8888888888888888,
              "#fdca26"
             ],
             [
              1,
              "#f0f921"
             ]
            ],
            "type": "contour"
           }
          ],
          "contourcarpet": [
           {
            "colorbar": {
             "outlinewidth": 0,
             "ticks": ""
            },
            "type": "contourcarpet"
           }
          ],
          "heatmap": [
           {
            "colorbar": {
             "outlinewidth": 0,
             "ticks": ""
            },
            "colorscale": [
             [
              0,
              "#0d0887"
             ],
             [
              0.1111111111111111,
              "#46039f"
             ],
             [
              0.2222222222222222,
              "#7201a8"
             ],
             [
              0.3333333333333333,
              "#9c179e"
             ],
             [
              0.4444444444444444,
              "#bd3786"
             ],
             [
              0.5555555555555556,
              "#d8576b"
             ],
             [
              0.6666666666666666,
              "#ed7953"
             ],
             [
              0.7777777777777778,
              "#fb9f3a"
             ],
             [
              0.8888888888888888,
              "#fdca26"
             ],
             [
              1,
              "#f0f921"
             ]
            ],
            "type": "heatmap"
           }
          ],
          "heatmapgl": [
           {
            "colorbar": {
             "outlinewidth": 0,
             "ticks": ""
            },
            "colorscale": [
             [
              0,
              "#0d0887"
             ],
             [
              0.1111111111111111,
              "#46039f"
             ],
             [
              0.2222222222222222,
              "#7201a8"
             ],
             [
              0.3333333333333333,
              "#9c179e"
             ],
             [
              0.4444444444444444,
              "#bd3786"
             ],
             [
              0.5555555555555556,
              "#d8576b"
             ],
             [
              0.6666666666666666,
              "#ed7953"
             ],
             [
              0.7777777777777778,
              "#fb9f3a"
             ],
             [
              0.8888888888888888,
              "#fdca26"
             ],
             [
              1,
              "#f0f921"
             ]
            ],
            "type": "heatmapgl"
           }
          ],
          "histogram": [
           {
            "marker": {
             "pattern": {
              "fillmode": "overlay",
              "size": 10,
              "solidity": 0.2
             }
            },
            "type": "histogram"
           }
          ],
          "histogram2d": [
           {
            "colorbar": {
             "outlinewidth": 0,
             "ticks": ""
            },
            "colorscale": [
             [
              0,
              "#0d0887"
             ],
             [
              0.1111111111111111,
              "#46039f"
             ],
             [
              0.2222222222222222,
              "#7201a8"
             ],
             [
              0.3333333333333333,
              "#9c179e"
             ],
             [
              0.4444444444444444,
              "#bd3786"
             ],
             [
              0.5555555555555556,
              "#d8576b"
             ],
             [
              0.6666666666666666,
              "#ed7953"
             ],
             [
              0.7777777777777778,
              "#fb9f3a"
             ],
             [
              0.8888888888888888,
              "#fdca26"
             ],
             [
              1,
              "#f0f921"
             ]
            ],
            "type": "histogram2d"
           }
          ],
          "histogram2dcontour": [
           {
            "colorbar": {
             "outlinewidth": 0,
             "ticks": ""
            },
            "colorscale": [
             [
              0,
              "#0d0887"
             ],
             [
              0.1111111111111111,
              "#46039f"
             ],
             [
              0.2222222222222222,
              "#7201a8"
             ],
             [
              0.3333333333333333,
              "#9c179e"
             ],
             [
              0.4444444444444444,
              "#bd3786"
             ],
             [
              0.5555555555555556,
              "#d8576b"
             ],
             [
              0.6666666666666666,
              "#ed7953"
             ],
             [
              0.7777777777777778,
              "#fb9f3a"
             ],
             [
              0.8888888888888888,
              "#fdca26"
             ],
             [
              1,
              "#f0f921"
             ]
            ],
            "type": "histogram2dcontour"
           }
          ],
          "mesh3d": [
           {
            "colorbar": {
             "outlinewidth": 0,
             "ticks": ""
            },
            "type": "mesh3d"
           }
          ],
          "parcoords": [
           {
            "line": {
             "colorbar": {
              "outlinewidth": 0,
              "ticks": ""
             }
            },
            "type": "parcoords"
           }
          ],
          "pie": [
           {
            "automargin": true,
            "type": "pie"
           }
          ],
          "scatter": [
           {
            "fillpattern": {
             "fillmode": "overlay",
             "size": 10,
             "solidity": 0.2
            },
            "type": "scatter"
           }
          ],
          "scatter3d": [
           {
            "line": {
             "colorbar": {
              "outlinewidth": 0,
              "ticks": ""
             }
            },
            "marker": {
             "colorbar": {
              "outlinewidth": 0,
              "ticks": ""
             }
            },
            "type": "scatter3d"
           }
          ],
          "scattercarpet": [
           {
            "marker": {
             "colorbar": {
              "outlinewidth": 0,
              "ticks": ""
             }
            },
            "type": "scattercarpet"
           }
          ],
          "scattergeo": [
           {
            "marker": {
             "colorbar": {
              "outlinewidth": 0,
              "ticks": ""
             }
            },
            "type": "scattergeo"
           }
          ],
          "scattergl": [
           {
            "marker": {
             "colorbar": {
              "outlinewidth": 0,
              "ticks": ""
             }
            },
            "type": "scattergl"
           }
          ],
          "scattermapbox": [
           {
            "marker": {
             "colorbar": {
              "outlinewidth": 0,
              "ticks": ""
             }
            },
            "type": "scattermapbox"
           }
          ],
          "scatterpolar": [
           {
            "marker": {
             "colorbar": {
              "outlinewidth": 0,
              "ticks": ""
             }
            },
            "type": "scatterpolar"
           }
          ],
          "scatterpolargl": [
           {
            "marker": {
             "colorbar": {
              "outlinewidth": 0,
              "ticks": ""
             }
            },
            "type": "scatterpolargl"
           }
          ],
          "scatterternary": [
           {
            "marker": {
             "colorbar": {
              "outlinewidth": 0,
              "ticks": ""
             }
            },
            "type": "scatterternary"
           }
          ],
          "surface": [
           {
            "colorbar": {
             "outlinewidth": 0,
             "ticks": ""
            },
            "colorscale": [
             [
              0,
              "#0d0887"
             ],
             [
              0.1111111111111111,
              "#46039f"
             ],
             [
              0.2222222222222222,
              "#7201a8"
             ],
             [
              0.3333333333333333,
              "#9c179e"
             ],
             [
              0.4444444444444444,
              "#bd3786"
             ],
             [
              0.5555555555555556,
              "#d8576b"
             ],
             [
              0.6666666666666666,
              "#ed7953"
             ],
             [
              0.7777777777777778,
              "#fb9f3a"
             ],
             [
              0.8888888888888888,
              "#fdca26"
             ],
             [
              1,
              "#f0f921"
             ]
            ],
            "type": "surface"
           }
          ],
          "table": [
           {
            "cells": {
             "fill": {
              "color": "#EBF0F8"
             },
             "line": {
              "color": "white"
             }
            },
            "header": {
             "fill": {
              "color": "#C8D4E3"
             },
             "line": {
              "color": "white"
             }
            },
            "type": "table"
           }
          ]
         },
         "layout": {
          "annotationdefaults": {
           "arrowcolor": "#2a3f5f",
           "arrowhead": 0,
           "arrowwidth": 1
          },
          "autotypenumbers": "strict",
          "coloraxis": {
           "colorbar": {
            "outlinewidth": 0,
            "ticks": ""
           }
          },
          "colorscale": {
           "diverging": [
            [
             0,
             "#8e0152"
            ],
            [
             0.1,
             "#c51b7d"
            ],
            [
             0.2,
             "#de77ae"
            ],
            [
             0.3,
             "#f1b6da"
            ],
            [
             0.4,
             "#fde0ef"
            ],
            [
             0.5,
             "#f7f7f7"
            ],
            [
             0.6,
             "#e6f5d0"
            ],
            [
             0.7,
             "#b8e186"
            ],
            [
             0.8,
             "#7fbc41"
            ],
            [
             0.9,
             "#4d9221"
            ],
            [
             1,
             "#276419"
            ]
           ],
           "sequential": [
            [
             0,
             "#0d0887"
            ],
            [
             0.1111111111111111,
             "#46039f"
            ],
            [
             0.2222222222222222,
             "#7201a8"
            ],
            [
             0.3333333333333333,
             "#9c179e"
            ],
            [
             0.4444444444444444,
             "#bd3786"
            ],
            [
             0.5555555555555556,
             "#d8576b"
            ],
            [
             0.6666666666666666,
             "#ed7953"
            ],
            [
             0.7777777777777778,
             "#fb9f3a"
            ],
            [
             0.8888888888888888,
             "#fdca26"
            ],
            [
             1,
             "#f0f921"
            ]
           ],
           "sequentialminus": [
            [
             0,
             "#0d0887"
            ],
            [
             0.1111111111111111,
             "#46039f"
            ],
            [
             0.2222222222222222,
             "#7201a8"
            ],
            [
             0.3333333333333333,
             "#9c179e"
            ],
            [
             0.4444444444444444,
             "#bd3786"
            ],
            [
             0.5555555555555556,
             "#d8576b"
            ],
            [
             0.6666666666666666,
             "#ed7953"
            ],
            [
             0.7777777777777778,
             "#fb9f3a"
            ],
            [
             0.8888888888888888,
             "#fdca26"
            ],
            [
             1,
             "#f0f921"
            ]
           ]
          },
          "colorway": [
           "#636efa",
           "#EF553B",
           "#00cc96",
           "#ab63fa",
           "#FFA15A",
           "#19d3f3",
           "#FF6692",
           "#B6E880",
           "#FF97FF",
           "#FECB52"
          ],
          "font": {
           "color": "#2a3f5f"
          },
          "geo": {
           "bgcolor": "white",
           "lakecolor": "white",
           "landcolor": "#E5ECF6",
           "showlakes": true,
           "showland": true,
           "subunitcolor": "white"
          },
          "hoverlabel": {
           "align": "left"
          },
          "hovermode": "closest",
          "mapbox": {
           "style": "light"
          },
          "paper_bgcolor": "white",
          "plot_bgcolor": "#E5ECF6",
          "polar": {
           "angularaxis": {
            "gridcolor": "white",
            "linecolor": "white",
            "ticks": ""
           },
           "bgcolor": "#E5ECF6",
           "radialaxis": {
            "gridcolor": "white",
            "linecolor": "white",
            "ticks": ""
           }
          },
          "scene": {
           "xaxis": {
            "backgroundcolor": "#E5ECF6",
            "gridcolor": "white",
            "gridwidth": 2,
            "linecolor": "white",
            "showbackground": true,
            "ticks": "",
            "zerolinecolor": "white"
           },
           "yaxis": {
            "backgroundcolor": "#E5ECF6",
            "gridcolor": "white",
            "gridwidth": 2,
            "linecolor": "white",
            "showbackground": true,
            "ticks": "",
            "zerolinecolor": "white"
           },
           "zaxis": {
            "backgroundcolor": "#E5ECF6",
            "gridcolor": "white",
            "gridwidth": 2,
            "linecolor": "white",
            "showbackground": true,
            "ticks": "",
            "zerolinecolor": "white"
           }
          },
          "shapedefaults": {
           "line": {
            "color": "#2a3f5f"
           }
          },
          "ternary": {
           "aaxis": {
            "gridcolor": "white",
            "linecolor": "white",
            "ticks": ""
           },
           "baxis": {
            "gridcolor": "white",
            "linecolor": "white",
            "ticks": ""
           },
           "bgcolor": "#E5ECF6",
           "caxis": {
            "gridcolor": "white",
            "linecolor": "white",
            "ticks": ""
           }
          },
          "title": {
           "x": 0.05
          },
          "xaxis": {
           "automargin": true,
           "gridcolor": "white",
           "linecolor": "white",
           "ticks": "",
           "title": {
            "standoff": 15
           },
           "zerolinecolor": "white",
           "zerolinewidth": 2
          },
          "yaxis": {
           "automargin": true,
           "gridcolor": "white",
           "linecolor": "white",
           "ticks": "",
           "title": {
            "standoff": 15
           },
           "zerolinecolor": "white",
           "zerolinewidth": 2
          }
         }
        },
        "title": {
         "text": ""
        },
        "xaxis": {
         "anchor": "y",
         "domain": [
          0,
          0.94
         ]
        },
        "yaxis": {
         "anchor": "x",
         "domain": [
          0,
          1
         ]
        },
        "yaxis2": {
         "anchor": "x",
         "overlaying": "y",
         "range": [
          0,
          [
           0.9360563559301204,
           0.0859702502750554,
           0.15272538410695
          ]
         ],
         "side": "right"
        }
       }
      }
     },
     "metadata": {},
     "output_type": "display_data"
    }
   ],
   "source": [
    "import plotly.graph_objects as go\n",
    "from plotly.subplots import make_subplots\n",
    "import datetime\n",
    "\n",
    "def line_plot_double_shared_stacked_bars(df, column_x=None, column_y1=None, column_y2=None, line_name1=None, line_name2=None, line_color1=None, line_color2=None, line_fill1=None, line_fill2=None, title=None):\n",
    "    fig = make_subplots(specs=[[{\"secondary_y\": True}]])\n",
    "    # fig = make_subplots(rows=2, cols=1, shared_xaxes=True)\n",
    "    if column_x is None:\n",
    "        x = df.index\n",
    "    else:\n",
    "        x = df[column_x]\n",
    "\n",
    "    fig.add_trace(go.Line(x=x, y=df[column_y1], fill=line_fill1, name=line_name1, marker=dict(color=line_color1)), secondary_y=False)\n",
    "    for i, (col_name, line_name, line_color)  in enumerate(zip(column_y2, line_name2, line_color2)):\n",
    "        fig.add_trace(go.Bar(x=x, y=df[col_name], name=line_name, marker=dict(color=line_color, opacity=0.4)), secondary_y=True)\n",
    "\n",
    "    if title is not None:\n",
    "        fig.update_layout(title_text=title)\n",
    "        layout_margin_top=30\n",
    "    else:\n",
    "        layout_margin_top=10\n",
    "    fig.update_layout(barmode='relative', margin=dict(l=10, r=10, t=layout_margin_top, b=10), height=300)\n",
    "    fig.update_layout(yaxis2 = dict(range=[0, df[column_y2].abs().max()]), legend=dict(\n",
    "        x=0,\n",
    "        y=1.2,))\n",
    "    fig['data'][0]['showlegend'] = True\n",
    "    return fig\n",
    "\n",
    "end_time = datetime.datetime(2022, 6, 30, 11, 0, 0, 0)\n",
    "num_lookback_points = 2*24\n",
    "df = val_df.query(f'timestamp <= \"{str(end_time)}\"').iloc[-num_lookback_points:]\n",
    "df['prediction_logit'] = df['prediction_logit'].apply(lambda x: round(x*100,1))\n",
    "# line_plot_double_shared_stacked_bars(df=df, column_x='timestamp', column_y1='prediction_logit', column_y2=['price_contribution', 'news_contribution', 'social_media_contribution'], line_name1='Price Fall Risk Probability', line_name2=['Price Contribution', 'News Contribution', 'Social Media Contribution'], line_color1='red', line_color2=['blue','green','purple'], title='')\n",
    "\n",
    "line_plot_double_shared_stacked_bars(df=df, column_x='timestamp', \n",
    "                                                                   column_y1='prediction_logit', column_y2=['price_contribution', 'news_contribution', 'social_media_contribution'], \n",
    "                                                                   line_name1='Price Fall Probability', line_name2=['Price Contribution', 'News Contribution', 'Social Media Contribution'], \n",
    "                                                                   line_color1='grey', line_color2=['yellow','purple','blue'], title='').show()"
   ]
  },
  {
   "cell_type": "code",
   "execution_count": null,
   "metadata": {},
   "outputs": [],
   "source": [
    "val_df['prediction_logit']"
   ]
  },
  {
   "cell_type": "code",
   "execution_count": null,
   "metadata": {},
   "outputs": [],
   "source": []
  }
 ],
 "metadata": {
  "kernelspec": {
   "display_name": "capstone",
   "language": "python",
   "name": "python3"
  },
  "language_info": {
   "codemirror_mode": {
    "name": "ipython",
    "version": 3
   },
   "file_extension": ".py",
   "mimetype": "text/x-python",
   "name": "python",
   "nbconvert_exporter": "python",
   "pygments_lexer": "ipython3",
   "version": "3.10.6"
  },
  "orig_nbformat": 4,
  "vscode": {
   "interpreter": {
    "hash": "9c4e0e97e56b55bb7e390bbeb99c575aca79ef885e231d981673e36684b021fb"
   }
  }
 },
 "nbformat": 4,
 "nbformat_minor": 2
}
