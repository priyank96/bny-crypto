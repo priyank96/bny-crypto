{
 "cells": [
  {
   "cell_type": "code",
   "execution_count": null,
   "metadata": {},
   "outputs": [],
   "source": [
    "! pip install lppls"
   ]
  },
  {
   "cell_type": "code",
   "execution_count": null,
   "metadata": {},
   "outputs": [],
   "source": [
    "# Write PSY bubble prediction algorithm in python\n",
    "\n",
    "import numpy as np\n",
    "from statsmodels.tsa.stattools import adfuller\n",
    "from tqdm import tqdm\n",
    "import pandas as pd\n",
    "import plotly.graph_objects as go\n",
    "import plotly.express as px\n",
    "from plotly.subplots import make_subplots\n",
    "from lppls import lppls, data_loader, lppls_cmaes\n",
    "\n",
    "\n",
    "def PSY(y, swindow0=None, IC=0, adflag=0):\n",
    "\n",
    "    t = len(y)\n",
    "\n",
    "    if swindow0 is None:\n",
    "        swindow0 = int(np.floor(t * (0.01 + 1.8 / np.sqrt(t))))\n",
    "\n",
    "    bsadfs = np.empty(t)\n",
    "    bsadfs[:] = np.nan\n",
    "\n",
    "    for r2 in tqdm(range(swindow0, t)):\n",
    "        rwadft = np.empty(r2 - swindow0 + 1)\n",
    "        rwadft[:] = -999\n",
    "        for r1 in range(0, r2 - swindow0 + 1):\n",
    "            rwadft[r1] = adfuller(y[r1:r2+1], maxlag=adflag, autolag=None)[0]\n",
    "\n",
    "        bsadfs[r2] = np.max(rwadft)\n",
    "\n",
    "    bsadf = np.hstack((np.zeros(swindow0), bsadfs[swindow0:t]))\n",
    "\n",
    "    return bsadf"
   ]
  },
  {
   "cell_type": "code",
   "execution_count": null,
   "metadata": {},
   "outputs": [],
   "source": [
    "price_data_df = pd.read_csv('data/30m_BTC_USD.csv')\n",
    "# price_data_df.drop(columns=['Unnamed: 0'], inplace=True)\n",
    "# Take first 100 rows\n",
    "start, length = 22000, 1000\n",
    "\n",
    "price_data_df = price_data_df.iloc[start:start+length]\n",
    "price_data_df['PSY_3h'] = PSY(price_data_df['close'].values, swindow0=2*3, IC=0, adflag=0)\n",
    "price_data_df['PSY_6h'] = PSY(price_data_df['close'].values, swindow0=2*6, IC=0, adflag=0)\n",
    "price_data_df['PSY_1d'] = PSY(price_data_df['close'].values, swindow0=2*24, IC=0, adflag=0)\n",
    "price_data_df['PSY_3d'] = PSY(price_data_df['close'].values, swindow0=2*24*3, IC=0, adflag=0)\n",
    "price_data_df['PSY_7d'] = PSY(price_data_df['close'].values, swindow0=2*24*7, IC=0, adflag=0)\n",
    "# price_data_df['PSY_int'] = price_data_df['PSY'].apply(lambda x: int(x))"
   ]
  },
  {
   "cell_type": "code",
   "execution_count": null,
   "metadata": {},
   "outputs": [],
   "source": [
    "psy95 = np.percentile(price_data_df['PSY'], 95)\n",
    "psy95"
   ]
  },
  {
   "cell_type": "code",
   "execution_count": null,
   "metadata": {},
   "outputs": [],
   "source": [
    "price_data_df['PSY'] = price_data_df['PSY'].apply(lambda x: 1 if x >= psy95 else 0)"
   ]
  },
  {
   "cell_type": "code",
   "execution_count": null,
   "metadata": {},
   "outputs": [],
   "source": [
    "fig = make_subplots(rows=2, cols=1)\n",
    "fig.add_trace(go.Scatter(x=price_data_df['timestamp'], y=price_data_df['close'], name='Price'),\n",
    "              row=1, col=1)\n",
    "fig.add_trace(go.Scatter(x=price_data_df['timestamp'], y=price_data_df['PSY'], name='PSY'),\n",
    "              row=2, col=1)\n",
    "# fig.add_trace(go.Scatter(x=price_data_df['timestamp'], y=price_data_df['PSY_int'], name='PSY Integer'),\n",
    "#               row=2, col=1)\n",
    "fig.show()\n"
   ]
  },
  {
   "cell_type": "code",
   "execution_count": null,
   "metadata": {},
   "outputs": [],
   "source": [
    "fig = make_subplots(specs=[[{\"secondary_y\": True}]])\n",
    "fig.add_trace(go.Scatter(x=price_data_df['timestamp'], y=price_data_df['close'], name='Price'), secondary_y=False)\n",
    "fig.add_trace(go.Scatter(x=price_data_df['timestamp'], y=price_data_df['PSY'], name='PSY'), secondary_y=True)\n",
    "# fig.add_trace(go.Scatter(x=price_data_df['timestamp'], y=price_data_df['PSY_int'], name='PSY Integer'), secondary_y=True)\n",
    "fig.show()"
   ]
  }
 ],
 "metadata": {
  "kernelspec": {
   "display_name": "crypto",
   "language": "python",
   "name": "python3"
  },
  "language_info": {
   "codemirror_mode": {
    "name": "ipython",
    "version": 3
   },
   "file_extension": ".py",
   "mimetype": "text/x-python",
   "name": "python",
   "nbconvert_exporter": "python",
   "pygments_lexer": "ipython3",
   "version": "3.10.6"
  },
  "orig_nbformat": 4,
  "vscode": {
   "interpreter": {
    "hash": "387e88cbe8050b647ec0430589b39a258f16fc0a17b5df8261967f13a5e410fe"
   }
  }
 },
 "nbformat": 4,
 "nbformat_minor": 2
}
